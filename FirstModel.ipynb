{
 "cells": [
  {
   "cell_type": "code",
   "execution_count": 56,
   "id": "836b8fc2-38aa-4a07-a70e-a902119cffaa",
   "metadata": {},
   "outputs": [
    {
     "name": "stdout",
     "output_type": "stream",
     "text": [
      "1\n",
      "The autoreload extension is already loaded. To reload it, use:\n",
      "  %reload_ext autoreload\n"
     ]
    }
   ],
   "source": [
    "import physionet_challenge_utility_script as pc\n",
    "\n",
    "import ecg_plot\n",
    "import pandas as pd\n",
    "import matplotlib.pyplot as plt\n",
    "import seaborn as sns\n",
    "import tensorflow_addons as tfa\n",
    "import numpy as np\n",
    "import tensorflow as tf\n",
    "from tensorflow import keras\n",
    "from keras.utils.vis_utils import plot_model\n",
    "from keras.preprocessing.sequence import pad_sequences\n",
    "\n",
    "print(1)\n",
    "\n",
    "%load_ext autoreload\n",
    "%autoreload\n",
    "%reload_ext autoreload\n"
   ]
  },
  {
   "cell_type": "code",
   "execution_count": 2,
   "id": "3a8639e3-dece-494c-b6be-9d8d25189300",
   "metadata": {},
   "outputs": [],
   "source": [
    "DATADIR = \"./SM22_MLData\""
   ]
  },
  {
   "cell_type": "code",
   "execution_count": 3,
   "id": "a35be90f-0879-4325-b18b-9280ce66db1e",
   "metadata": {},
   "outputs": [],
   "source": [
    "firstModelData = {}\n",
    "firstModelData[\"gender\"], firstModelData[\"age\"], firstModelData[\"labels\"], firstModelData[\"ecg_filenames\"] = pc.import_key_data(DATADIR)\n",
    "firstModelData[\"ecg_filenames\"] = np.asarray(firstModelData[\"ecg_filenames\"])"
   ]
  },
  {
   "cell_type": "code",
   "execution_count": 4,
   "id": "c37f1a29-4eb5-4470-b953-beb89a480996",
   "metadata": {},
   "outputs": [],
   "source": [
    "cache = firstModelData[\"labels\"]"
   ]
  },
  {
   "cell_type": "code",
   "execution_count": 5,
   "id": "f4efabb8-1458-4b2b-a253-c61f4869358d",
   "metadata": {},
   "outputs": [
    {
     "name": "stdout",
     "output_type": "stream",
     "text": [
      "43101\n"
     ]
    }
   ],
   "source": [
    "\"\"\"\n",
    "Remaps labels into class values (Integer Encoding)\n",
    "val: totalRhythm\n",
    "1 - SR\n",
    "2 - NSR\n",
    "3 - Both\n",
    "\"\"\"\n",
    "\n",
    "print(len(firstModelData[\"labels\"]))\n",
    "for i in range(len(firstModelData[\"labels\"])):\n",
    "    splitLabels = firstModelData[\"labels\"][i].split(\",\")\n",
    "    isSR, isNSR, totalRhythm = 0, 0, 0\n",
    "    if len(splitLabels) > 1:\n",
    "        isNSR = 2 #NSR\n",
    "    if not(\"426783006\" in splitLabels):\n",
    "        isNSR = 2 #NSR\n",
    "    if \"426783006\" in splitLabels:\n",
    "        isSR = 1 #SR\n",
    "    totalRhythm = isSR + isNSR\n",
    "    firstModelData[\"labels\"][i] = str(totalRhythm)\n"
   ]
  },
  {
   "cell_type": "code",
   "execution_count": 7,
   "id": "7eda1a18-09dd-45c6-96fa-13395e5a8735",
   "metadata": {},
   "outputs": [],
   "source": [
    "firstModelData[\"labels\"][0] = \"2,undefined\""
   ]
  },
  {
   "cell_type": "code",
   "execution_count": 8,
   "id": "813cb826-e89a-4a80-ba47-2dfacb0a7497",
   "metadata": {},
   "outputs": [
    {
     "name": "stdout",
     "output_type": "stream",
     "text": [
      "gender data shape: 43101\n",
      "age data shape: 43101\n"
     ]
    }
   ],
   "source": [
    "firstModelData[\"age\"], firstModelData[\"gender\"] = pc.import_gender_and_age(firstModelData[\"age\"], firstModelData[\"gender\"])"
   ]
  },
  {
   "cell_type": "code",
   "execution_count": 9,
   "id": "b48f2643-2d95-4901-b7ab-185269a92f47",
   "metadata": {},
   "outputs": [],
   "source": [
    "SNOMED_scored=pd.read_csv(f\"{DATADIR}/SNOMEDMappings/SNOMED_mappings_scored.csv\", sep=\";\")\n",
    "SNOMED_unscored=pd.read_csv(f\"{DATADIR}/SNOMEDMappings/FIRSTMODELMapping.csv\", sep=\",\")"
   ]
  },
  {
   "cell_type": "code",
   "execution_count": 10,
   "id": "186c0ec8-6644-419b-af53-9215ef4f78d0",
   "metadata": {},
   "outputs": [],
   "source": [
    "df_labels = pd.DataFrame(firstModelData[\"labels\"])"
   ]
  },
  {
   "cell_type": "code",
   "execution_count": 11,
   "id": "6431a74b-f130-4687-a86c-7eba818a71f1",
   "metadata": {},
   "outputs": [
    {
     "name": "stdout",
     "output_type": "stream",
     "text": [
      "The classes we will look at are encoded as SNOMED CT codes:\n",
      "['1' '2' '3' 'undefined']\n",
      "classes: 3\n"
     ]
    }
   ],
   "source": [
    "y , snomed_classes = pc.onehot_encode(df_labels)"
   ]
  },
  {
   "cell_type": "code",
   "execution_count": 12,
   "id": "642bb57b-bcc0-4ad9-b48e-f4f6d414d1f3",
   "metadata": {},
   "outputs": [
    {
     "data": {
      "text/plain": [
       "array([[0, 1, 0],\n",
       "       [0, 1, 0],\n",
       "       [0, 1, 0],\n",
       "       ...,\n",
       "       [0, 1, 0],\n",
       "       [0, 1, 0],\n",
       "       [0, 1, 0]])"
      ]
     },
     "execution_count": 12,
     "metadata": {},
     "output_type": "execute_result"
    }
   ],
   "source": [
    "y"
   ]
  },
  {
   "cell_type": "code",
   "execution_count": 13,
   "id": "44ab3532-5ccd-47dc-a2b7-44d523df9b04",
   "metadata": {},
   "outputs": [],
   "source": [
    "y_all_comb = pc.get_labels_for_all_combinations(y)"
   ]
  },
  {
   "cell_type": "code",
   "execution_count": 14,
   "id": "52c66b86-56ee-4889-9002-a1f56b5cb911",
   "metadata": {
    "tags": []
   },
   "outputs": [
    {
     "name": "stdout",
     "output_type": "stream",
     "text": [
      "Training split: 38790\n",
      "Validation split: 4311\n"
     ]
    }
   ],
   "source": [
    "folds = pc.split_data(firstModelData[\"labels\"], y_all_comb)"
   ]
  },
  {
   "cell_type": "code",
   "execution_count": 15,
   "id": "df9c0c95-f816-40ea-8b68-4a94201628bd",
   "metadata": {},
   "outputs": [],
   "source": [
    "order_array = folds[0][0]"
   ]
  },
  {
   "cell_type": "code",
   "execution_count": 16,
   "id": "5e576309-3e53-4832-acc4-96ce3b20f0a8",
   "metadata": {},
   "outputs": [],
   "source": [
    "def shuffle_batch_generator_demo(batch_size, gen_x,gen_y, gen_z): \n",
    "    np.random.shuffle(order_array)\n",
    "    batch_features = np.zeros((batch_size,5000, 12))\n",
    "    batch_labels = np.zeros((batch_size,snomed_classes.shape[0])) #drop undef class\n",
    "    batch_demo_data = np.zeros((batch_size,2))\n",
    "    while True:\n",
    "        for i in range(batch_size):\n",
    "\n",
    "            batch_features[i] = next(gen_x)\n",
    "            batch_labels[i] = next(gen_y)\n",
    "            batch_demo_data[i] = next(gen_z)\n",
    "\n",
    "        X_combined = [batch_features, batch_demo_data]\n",
    "        yield X_combined, batch_labels\n",
    "        \n",
    "def shuffle_batch_generator(batch_size, gen_x,gen_y): \n",
    "    np.random.shuffle(order_array)\n",
    "    batch_features = np.zeros((batch_size,5000, 12))\n",
    "    batch_labels = np.zeros((batch_size,snomed_classes.shape[0])) #drop undef class\n",
    "    while True:\n",
    "        for i in range(batch_size):\n",
    "\n",
    "            batch_features[i] = next(gen_x)\n",
    "            batch_labels[i] = next(gen_y)\n",
    "            \n",
    "        yield batch_features, batch_labels\n",
    "\n",
    "def generate_y_shuffle(y_train):\n",
    "    while True:\n",
    "        for i in order_array:\n",
    "            y_shuffled = y_train[i]\n",
    "            yield y_shuffled\n",
    "\n",
    "\n",
    "def generate_X_shuffle(X_train):\n",
    "    while True:\n",
    "        for i in order_array:\n",
    "                #if filepath.endswith(\".mat\"):\n",
    "                    data, header_data = pc.load_challenge_data(X_train[i])\n",
    "                    X_train_new = pad_sequences(data, maxlen=5000, truncating='post',padding=\"post\")\n",
    "                    X_train_new = X_train_new.reshape(5000,12)\n",
    "                    yield X_train_new\n",
    "\n",
    "def generate_z_shuffle(age_train, gender_train):\n",
    "    while True:\n",
    "        for i in order_array:\n",
    "            gen_age = age_train[i]\n",
    "            gen_gender = gender_train[i]\n",
    "            z_train = [gen_age , gen_gender]\n",
    "            yield z_train"
   ]
  },
  {
   "cell_type": "code",
   "execution_count": 17,
   "id": "b8d2308f-294c-47b1-84aa-16460883ae34",
   "metadata": {},
   "outputs": [],
   "source": [
    "new_weights=pc.calculating_class_weights(y)"
   ]
  },
  {
   "cell_type": "code",
   "execution_count": 57,
   "id": "cac5da93-5d3c-4e90-9ec0-dc38d68fd910",
   "metadata": {},
   "outputs": [
    {
     "data": {
      "text/plain": [
       "{0: 2.34703768242213, 1: 0.9683441923163334, 2: 1.847608024691358}"
      ]
     },
     "execution_count": 57,
     "metadata": {},
     "output_type": "execute_result"
    }
   ],
   "source": [
    "keys = np.arange(0,3,1)\n",
    "weight_dictionary = dict(zip(keys, new_weights.T[1]))\n",
    "weight_dictionary"
   ]
  },
  {
   "cell_type": "code",
   "execution_count": 58,
   "id": "b65e178e-690a-4815-9159-25b30104a608",
   "metadata": {},
   "outputs": [],
   "source": [
    "reduce_lr = tf.keras.callbacks.ReduceLROnPlateau(\n",
    "    monitor='val_AUC', factor=0.1, patience=2, verbose=1, mode='max',\n",
    "    min_delta=0.0001, cooldown=0, min_lr=0\n",
    ")\n",
    "\n",
    "early_stop = tf.keras.callbacks.EarlyStopping(monitor='val_AUC', mode='max', verbose=1, patience=2)"
   ]
  },
  {
   "cell_type": "code",
   "execution_count": 59,
   "id": "91360c3d-168b-4c2a-926e-0bce2dae4090",
   "metadata": {},
   "outputs": [],
   "source": [
    "from scipy import optimize\n",
    "def thr_chall_metrics(thr, label, output_prob):\n",
    "    return -pc.compute_challenge_metric_for_opt(label, np.array(output_prob>thr))"
   ]
  },
  {
   "cell_type": "code",
   "execution_count": 60,
   "id": "7571f600-0683-4b88-a3dd-d50d8233a4eb",
   "metadata": {},
   "outputs": [],
   "source": [
    "def myFCN(classes=27):\n",
    "    inputlayer = keras.layers.Input(shape=(5000,12)) \n",
    "\n",
    "    conv1 = keras.layers.Conv1D(filters=128, kernel_size=8,input_shape=(5000,12), padding='same')(inputlayer)\n",
    "    conv1 = keras.layers.BatchNormalization()(conv1)\n",
    "    conv1 = keras.layers.Activation(activation='relu')(conv1)\n",
    "\n",
    "    gap_layer = keras.layers.GlobalAveragePooling1D()(conv1)\n",
    "\n",
    "    outputlayer = keras.layers.Dense(classes, activation='sigmoid')(gap_layer)\n",
    "\n",
    "    model = keras.Model(inputs=inputlayer, outputs=outputlayer)\n",
    "    model.compile(loss=tf.keras.losses.BinaryCrossentropy(), optimizer=tf.keras.optimizers.Adam(learning_rate=0.001), metrics=[tf.keras.metrics.BinaryAccuracy(\n",
    "        name='accuracy', dtype=None, threshold=0.5),tf.keras.metrics.Recall(name='Recall'),tf.keras.metrics.Precision(name='Precision'), \n",
    "                    tf.keras.metrics.AUC(\n",
    "        num_thresholds=200,\n",
    "        curve=\"ROC\",\n",
    "        summation_method=\"interpolation\",\n",
    "        name=\"AUC\",\n",
    "        dtype=None,\n",
    "        thresholds=None,\n",
    "        multi_label=True,\n",
    "        label_weights=None,\n",
    "    )])\n",
    "\n",
    "    return model"
   ]
  },
  {
   "cell_type": "code",
   "execution_count": 61,
   "id": "86e35489-c3fe-42c1-92fa-09a7ecd30d02",
   "metadata": {},
   "outputs": [],
   "source": [
    "model = pc.residual_network_1d(classes=3)"
   ]
  },
  {
   "cell_type": "code",
   "execution_count": 66,
   "id": "44e24fa2-7929-4326-8ef7-545681cf08cf",
   "metadata": {},
   "outputs": [],
   "source": [
    "model.load_weights(f\"modelweights_newshape.h5\")"
   ]
  },
  {
   "cell_type": "code",
   "execution_count": 67,
   "id": "785978e5-3327-4c98-9997-07092d08c256",
   "metadata": {},
   "outputs": [
    {
     "name": "stdout",
     "output_type": "stream",
     "text": [
      "Epoch 1/15\n",
      "1293/1293 [==============================] - 1824s 1s/step - loss: 0.4237 - accuracy: 0.8875 - Recall: 0.8268 - Precision: 0.8343 - AUC: 0.9470 - val_loss: 0.2883 - val_accuracy: 0.8748 - val_Recall: 0.8028 - val_Precision: 0.8182 - val_AUC: 0.9424 - lr: 1.0000e-03\n",
      "Epoch 2/15\n",
      "1293/1293 [==============================] - 2264s 2s/step - loss: 0.4168 - accuracy: 0.8892 - Recall: 0.8296 - Precision: 0.8366 - AUC: 0.9489 - val_loss: 0.2863 - val_accuracy: 0.8760 - val_Recall: 0.8042 - val_Precision: 0.8202 - val_AUC: 0.9425 - lr: 1.0000e-03\n",
      "Epoch 3/15\n",
      "1293/1293 [==============================] - 2237s 2s/step - loss: 0.4117 - accuracy: 0.8910 - Recall: 0.8323 - Precision: 0.8393 - AUC: 0.9502 - val_loss: 0.2873 - val_accuracy: 0.8757 - val_Recall: 0.8049 - val_Precision: 0.8192 - val_AUC: 0.9422 - lr: 1.0000e-03\n",
      "Epoch 4/15\n",
      "1293/1293 [==============================] - ETA: 0s - loss: 0.4071 - accuracy: 0.8924 - Recall: 0.8348 - Precision: 0.8413 - AUC: 0.9513\n",
      "Epoch 4: ReduceLROnPlateau reducing learning rate to 9.999999310821295e-05.\n",
      "1293/1293 [==============================] - 2251s 2s/step - loss: 0.4071 - accuracy: 0.8924 - Recall: 0.8348 - Precision: 0.8413 - AUC: 0.9513 - val_loss: 0.2863 - val_accuracy: 0.8761 - val_Recall: 0.8049 - val_Precision: 0.8199 - val_AUC: 0.9423 - lr: 1.0000e-03\n",
      "Epoch 5/15\n",
      "1293/1293 [==============================] - 2162s 2s/step - loss: 0.3949 - accuracy: 0.8966 - Recall: 0.8410 - Precision: 0.8477 - AUC: 0.9543 - val_loss: 0.2845 - val_accuracy: 0.8787 - val_Recall: 0.8112 - val_Precision: 0.8224 - val_AUC: 0.9437 - lr: 1.0000e-04\n",
      "Epoch 6/15\n",
      "1293/1293 [==============================] - 2107s 2s/step - loss: 0.3929 - accuracy: 0.8975 - Recall: 0.8425 - Precision: 0.8489 - AUC: 0.9548 - val_loss: 0.2850 - val_accuracy: 0.8790 - val_Recall: 0.8114 - val_Precision: 0.8231 - val_AUC: 0.9439 - lr: 1.0000e-04\n",
      "Epoch 7/15\n",
      "1293/1293 [==============================] - 2215s 2s/step - loss: 0.3919 - accuracy: 0.8978 - Recall: 0.8432 - Precision: 0.8492 - AUC: 0.9550 - val_loss: 0.2854 - val_accuracy: 0.8788 - val_Recall: 0.8112 - val_Precision: 0.8226 - val_AUC: 0.9436 - lr: 1.0000e-04\n",
      "Epoch 8/15\n",
      "1293/1293 [==============================] - ETA: 0s - loss: 0.3911 - accuracy: 0.8980 - Recall: 0.8433 - Precision: 0.8495 - AUC: 0.9552\n",
      "Epoch 8: ReduceLROnPlateau reducing learning rate to 9.999999019782991e-06.\n",
      "1293/1293 [==============================] - 2182s 2s/step - loss: 0.3911 - accuracy: 0.8980 - Recall: 0.8433 - Precision: 0.8495 - AUC: 0.9552 - val_loss: 0.2858 - val_accuracy: 0.8787 - val_Recall: 0.8116 - val_Precision: 0.8221 - val_AUC: 0.9434 - lr: 1.0000e-04\n",
      "Epoch 9/15\n",
      "1293/1293 [==============================] - 1832s 1s/step - loss: 0.3894 - accuracy: 0.8984 - Recall: 0.8441 - Precision: 0.8501 - AUC: 0.9555 - val_loss: 0.2844 - val_accuracy: 0.8801 - val_Recall: 0.8130 - val_Precision: 0.8247 - val_AUC: 0.9437 - lr: 1.0000e-05\n",
      "Epoch 10/15\n",
      "1293/1293 [==============================] - ETA: 0s - loss: 0.3892 - accuracy: 0.8987 - Recall: 0.8443 - Precision: 0.8506 - AUC: 0.9556\n",
      "Epoch 10: ReduceLROnPlateau reducing learning rate to 9.99999883788405e-07.\n",
      "1293/1293 [==============================] - 2166s 2s/step - loss: 0.3892 - accuracy: 0.8987 - Recall: 0.8443 - Precision: 0.8506 - AUC: 0.9556 - val_loss: 0.2841 - val_accuracy: 0.8798 - val_Recall: 0.8128 - val_Precision: 0.8243 - val_AUC: 0.9438 - lr: 1.0000e-05\n",
      "Epoch 11/15\n",
      "1293/1293 [==============================] - 2202s 2s/step - loss: 0.3890 - accuracy: 0.8988 - Recall: 0.8445 - Precision: 0.8507 - AUC: 0.9557 - val_loss: 0.2839 - val_accuracy: 0.8800 - val_Recall: 0.8130 - val_Precision: 0.8245 - val_AUC: 0.9438 - lr: 1.0000e-06\n",
      "Epoch 12/15\n",
      "1293/1293 [==============================] - ETA: 0s - loss: 0.3889 - accuracy: 0.8988 - Recall: 0.8446 - Precision: 0.8508 - AUC: 0.9557\n",
      "Epoch 12: ReduceLROnPlateau reducing learning rate to 9.99999883788405e-08.\n",
      "1293/1293 [==============================] - 2282s 2s/step - loss: 0.3889 - accuracy: 0.8988 - Recall: 0.8446 - Precision: 0.8508 - AUC: 0.9557 - val_loss: 0.2838 - val_accuracy: 0.8802 - val_Recall: 0.8133 - val_Precision: 0.8247 - val_AUC: 0.9438 - lr: 1.0000e-06\n",
      "Epoch 13/15\n",
      "1293/1293 [==============================] - 2042s 2s/step - loss: 0.3889 - accuracy: 0.8988 - Recall: 0.8445 - Precision: 0.8508 - AUC: 0.9557 - val_loss: 0.2838 - val_accuracy: 0.8802 - val_Recall: 0.8133 - val_Precision: 0.8247 - val_AUC: 0.9438 - lr: 1.0000e-07\n",
      "Epoch 14/15\n",
      "1293/1293 [==============================] - ETA: 0s - loss: 0.3889 - accuracy: 0.8988 - Recall: 0.8445 - Precision: 0.8508 - AUC: 0.9557\n",
      "Epoch 14: ReduceLROnPlateau reducing learning rate to 9.999998695775504e-09.\n",
      "1293/1293 [==============================] - 2289s 2s/step - loss: 0.3889 - accuracy: 0.8988 - Recall: 0.8445 - Precision: 0.8508 - AUC: 0.9557 - val_loss: 0.2838 - val_accuracy: 0.8802 - val_Recall: 0.8133 - val_Precision: 0.8247 - val_AUC: 0.9438 - lr: 1.0000e-07\n",
      "Epoch 15/15\n",
      "1293/1293 [==============================] - 2200s 2s/step - loss: 0.3889 - accuracy: 0.8988 - Recall: 0.8445 - Precision: 0.8508 - AUC: 0.9557 - val_loss: 0.2838 - val_accuracy: 0.8802 - val_Recall: 0.8133 - val_Precision: 0.8247 - val_AUC: 0.9438 - lr: 1.0000e-08\n"
     ]
    },
    {
     "data": {
      "text/plain": [
       "<keras.callbacks.History at 0x28fa40790>"
      ]
     },
     "execution_count": 67,
     "metadata": {},
     "output_type": "execute_result"
    }
   ],
   "source": [
    "batchsize = 30\n",
    "model.fit(\n",
    "    x=shuffle_batch_generator(batch_size=batchsize, gen_x=generate_X_shuffle(firstModelData[\"ecg_filenames\"]), \n",
    "    gen_y=generate_y_shuffle(y)), \n",
    "    epochs=15, \n",
    "    steps_per_epoch=(len(order_array)/batchsize), \n",
    "    validation_data=pc.generate_validation_data(firstModelData[\"ecg_filenames\"],y,folds[0][1]), \n",
    "    validation_freq=1, \n",
    "    class_weight=weight_dictionary, \n",
    "    callbacks=[reduce_lr]\n",
    ")"
   ]
  },
  {
   "cell_type": "code",
   "execution_count": 68,
   "id": "d7214fcc-9e0e-4404-9429-a6c89a5dd553",
   "metadata": {},
   "outputs": [],
   "source": [
    "model.save_weights(\"modelweights_newShape30.h5\")"
   ]
  },
  {
   "cell_type": "code",
   "execution_count": 69,
   "id": "11263d70-9e9f-47ce-81bd-ed04a0d6daa9",
   "metadata": {},
   "outputs": [
    {
     "ename": "AttributeError",
     "evalue": "'function' object has no attribute 'keys'",
     "output_type": "error",
     "traceback": [
      "\u001b[0;31m---------------------------------------------------------------------------\u001b[0m",
      "\u001b[0;31mAttributeError\u001b[0m                            Traceback (most recent call last)",
      "Input \u001b[0;32mIn [69]\u001b[0m, in \u001b[0;36m<cell line: 1>\u001b[0;34m()\u001b[0m\n\u001b[0;32m----> 1\u001b[0m \u001b[43mmodel\u001b[49m\u001b[38;5;241;43m.\u001b[39;49m\u001b[43mfit\u001b[49m\u001b[38;5;241;43m.\u001b[39;49m\u001b[43mkeys\u001b[49m()\n",
      "\u001b[0;31mAttributeError\u001b[0m: 'function' object has no attribute 'keys'"
     ]
    }
   ],
   "source": []
  },
  {
   "cell_type": "code",
   "execution_count": null,
   "id": "e0c79663-db15-4adb-ae19-760b8bf4a045",
   "metadata": {},
   "outputs": [],
   "source": []
  }
 ],
 "metadata": {
  "kernelspec": {
   "display_name": "Python 3 (ipykernel)",
   "language": "python",
   "name": "python3"
  },
  "language_info": {
   "codemirror_mode": {
    "name": "ipython",
    "version": 3
   },
   "file_extension": ".py",
   "mimetype": "text/x-python",
   "name": "python",
   "nbconvert_exporter": "python",
   "pygments_lexer": "ipython3",
   "version": "3.8.12"
  }
 },
 "nbformat": 4,
 "nbformat_minor": 5
}
