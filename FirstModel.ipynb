{
 "cells": [
  {
   "cell_type": "code",
<<<<<<< Updated upstream
   "execution_count": 81,
=======
   "execution_count": null,
>>>>>>> Stashed changes
   "id": "836b8fc2-38aa-4a07-a70e-a902119cffaa",
   "metadata": {},
   "outputs": [],
   "source": [
    "import physionet_challenge_utility_script as pc\n",
    "\n",
    "import ecg_plot\n",
    "import pandas as pd\n",
    "import matplotlib.pyplot as plt\n",
    "import seaborn as sns\n",
    "import tensorflow_addons as tf\n",
    "import numpy as np\n",
    "import tensorflow as tf\n",
    "from tensorflow import keras\n",
    "from keras.utils.vis_utils import plot_model\n",
    "from keras.preprocessing.sequence import pad_sequences\n",
    "\n",
    "print(1)\n",
    "\n",
    "%load_ext autoreload\n",
    "%autoreload\n",
    "%reload_ext autoreload\n"
   ]
  },
  {
   "cell_type": "code",
<<<<<<< Updated upstream
   "execution_count": 82,
=======
   "execution_count": null,
>>>>>>> Stashed changes
   "id": "3a8639e3-dece-494c-b6be-9d8d25189300",
   "metadata": {},
   "outputs": [],
   "source": [
    "DATADIR = \"./SM22_MLData\""
   ]
  },
  {
   "cell_type": "code",
<<<<<<< Updated upstream
   "execution_count": 83,
=======
   "execution_count": null,
>>>>>>> Stashed changes
   "id": "a35be90f-0879-4325-b18b-9280ce66db1e",
   "metadata": {},
   "outputs": [],
   "source": [
    "firstModelData = {}\n",
    "firstModelData[\"gender\"], firstModelData[\"age\"], firstModelData[\"labels\"], firstModelData[\"ecg_filenames\"] = pc.import_key_data(DATADIR)\n",
    "firstModelData[\"ecg_filenames\"] = np.asarray(firstModelData[\"ecg_filenames\"])"
   ]
  },
  {
   "cell_type": "code",
<<<<<<< Updated upstream
   "execution_count": 84,
=======
   "execution_count": 6,
>>>>>>> Stashed changes
   "id": "c37f1a29-4eb5-4470-b953-beb89a480996",
   "metadata": {},
   "outputs": [],
   "source": [
    "cache = firstModelData[\"labels\"]\n",
    "#firstModelData[\"labels\"] = cache"
   ]
  },
  {
   "cell_type": "code",
<<<<<<< Updated upstream
   "execution_count": 85,
=======
   "execution_count": 7,
>>>>>>> Stashed changes
   "id": "f4efabb8-1458-4b2b-a253-c61f4869358d",
   "metadata": {},
   "outputs": [
    {
     "name": "stdout",
     "output_type": "stream",
     "text": [
      "43101\n"
     ]
    }
   ],
   "source": [
    "\"\"\"\n",
    "Remaps labels into class values (Integer Encoding)\n",
    "val: totalRhythm\n",
    "1 - SR\n",
    "2 - NSR\n",
    "3 - Both\n",
    "\"\"\"\n",
    "\n",
    "print(len(firstModelData[\"labels\"]))\n",
    "for i in range(len(firstModelData[\"labels\"])):\n",
    "    splitLabels = firstModelData[\"labels\"][i].split(\",\")\n",
    "    isSR, isNSR, totalRhythm = 0, 0, 0\n",
    "    if len(splitLabels) > 1:\n",
    "        isNSR = 2 #NSR\n",
    "    if not(\"426783006\" in splitLabels):\n",
    "        isNSR = 2 #NSR\n",
    "    if \"426783006\" in splitLabels:\n",
    "        isSR = 1 #SR\n",
    "    totalRhythm = isSR + isNSR\n",
    "    firstModelData[\"labels\"][i] = str(totalRhythm)"
   ]
  },
  {
   "cell_type": "code",
<<<<<<< Updated upstream
   "execution_count": 60,
=======
   "execution_count": 8,
>>>>>>> Stashed changes
   "id": "7eda1a18-09dd-45c6-96fa-13395e5a8735",
   "metadata": {},
   "outputs": [],
   "source": [
    "firstModelData[\"labels\"][0] = \"2,undefined\""
   ]
  },
  {
   "cell_type": "code",
<<<<<<< Updated upstream
   "execution_count": 61,
=======
   "execution_count": 9,
>>>>>>> Stashed changes
   "id": "813cb826-e89a-4a80-ba47-2dfacb0a7497",
   "metadata": {},
   "outputs": [
    {
     "name": "stdout",
     "output_type": "stream",
     "text": [
      "gender data shape: 43101\n",
      "age data shape: 43101\n"
     ]
    },
    {
     "name": "stderr",
     "output_type": "stream",
     "text": [
      "/Users/pranav/Documents/GitHub/ArrythmiaScienceMontgomery/physionet_challenge_utility_script.py:41: FutureWarning: elementwise comparison failed; returning scalar instead, but in the future will perform elementwise comparison\n",
      "  gender[np.where(gender == \"Male\")] = 0\n",
      "/Users/pranav/Documents/GitHub/ArrythmiaScienceMontgomery/physionet_challenge_utility_script.py:42: FutureWarning: elementwise comparison failed; returning scalar instead, but in the future will perform elementwise comparison\n",
      "  gender[np.where(gender == \"male\")] = 0\n",
      "/Users/pranav/Documents/GitHub/ArrythmiaScienceMontgomery/physionet_challenge_utility_script.py:43: FutureWarning: elementwise comparison failed; returning scalar instead, but in the future will perform elementwise comparison\n",
      "  gender[np.where(gender == \"M\")] = 0\n",
      "/Users/pranav/Documents/GitHub/ArrythmiaScienceMontgomery/physionet_challenge_utility_script.py:44: FutureWarning: elementwise comparison failed; returning scalar instead, but in the future will perform elementwise comparison\n",
      "  gender[np.where(gender == \"Female\")] = 1\n",
      "/Users/pranav/Documents/GitHub/ArrythmiaScienceMontgomery/physionet_challenge_utility_script.py:45: FutureWarning: elementwise comparison failed; returning scalar instead, but in the future will perform elementwise comparison\n",
      "  gender[np.where(gender == \"female\")] = 1\n",
      "/Users/pranav/Documents/GitHub/ArrythmiaScienceMontgomery/physionet_challenge_utility_script.py:46: FutureWarning: elementwise comparison failed; returning scalar instead, but in the future will perform elementwise comparison\n",
      "  gender[np.where(gender == \"F\")] = 1\n",
      "/Users/pranav/Documents/GitHub/ArrythmiaScienceMontgomery/physionet_challenge_utility_script.py:47: FutureWarning: elementwise comparison failed; returning scalar instead, but in the future will perform elementwise comparison\n",
      "  gender[np.where(gender == \"NaN\")] = 2\n",
      "/Users/pranav/Documents/GitHub/ArrythmiaScienceMontgomery/physionet_challenge_utility_script.py:54: FutureWarning: elementwise comparison failed; returning scalar instead, but in the future will perform elementwise comparison\n",
      "  age[np.where(age == \"NaN\")] = -1\n"
     ]
    }
   ],
   "source": [
    "firstModelData[\"age\"], firstModelData[\"gender\"] = pc.import_gender_and_age(firstModelData[\"age\"], firstModelData[\"gender\"])"
   ]
  },
  {
   "cell_type": "code",
<<<<<<< Updated upstream
   "execution_count": 62,
=======
   "execution_count": 10,
>>>>>>> Stashed changes
   "id": "b48f2643-2d95-4901-b7ab-185269a92f47",
   "metadata": {},
   "outputs": [],
   "source": [
    "SNOMED_scored=pd.read_csv(f\"{DATADIR}/SNOMEDMappings/SNOMED_mappings_scored.csv\", sep=\";\")\n",
    "SNOMED_unscored=pd.read_csv(f\"{DATADIR}/SNOMEDMappings/FIRSTMODELMapping.csv\", sep=\",\")"
   ]
  },
  {
   "cell_type": "code",
<<<<<<< Updated upstream
   "execution_count": 63,
=======
   "execution_count": 11,
>>>>>>> Stashed changes
   "id": "186c0ec8-6644-419b-af53-9215ef4f78d0",
   "metadata": {},
   "outputs": [],
   "source": [
    "df_labels = pd.DataFrame(firstModelData[\"labels\"])"
   ]
  },
  {
   "cell_type": "code",
<<<<<<< Updated upstream
   "execution_count": 88,
   "id": "343837e2-fad7-45c4-b539-b4a04933a141",
   "metadata": {},
   "outputs": [
    {
     "data": {
      "text/plain": [
       "array(['1', '2'], dtype=object)"
      ]
     },
     "execution_count": 88,
     "metadata": {},
     "output_type": "execute_result"
    }
   ],
   "source": [
    "snomed_classes"
   ]
  },
  {
   "cell_type": "code",
   "execution_count": 64,
=======
   "execution_count": 12,
>>>>>>> Stashed changes
   "id": "6431a74b-f130-4687-a86c-7eba818a71f1",
   "metadata": {},
   "outputs": [
    {
     "name": "stdout",
     "output_type": "stream",
     "text": [
      "The classes we will look at are encoded as SNOMED CT codes:\n",
      "['1' '2' 'undefined']\n",
      "classes: 2\n"
     ]
    }
   ],
   "source": [
    "y , snomed_classes = pc.onehot_encode(df_labels)"
   ]
  },
  {
   "cell_type": "code",
<<<<<<< Updated upstream
   "execution_count": 65,
=======
   "execution_count": 13,
>>>>>>> Stashed changes
   "id": "642bb57b-bcc0-4ad9-b48e-f4f6d414d1f3",
   "metadata": {},
   "outputs": [
    {
     "data": {
      "text/plain": [
       "array([[0, 1],\n",
       "       [0, 1],\n",
       "       [0, 1],\n",
       "       ...,\n",
       "       [0, 1],\n",
       "       [0, 1],\n",
       "       [0, 1]])"
      ]
     },
<<<<<<< Updated upstream
     "execution_count": 65,
=======
     "execution_count": 13,
>>>>>>> Stashed changes
     "metadata": {},
     "output_type": "execute_result"
    }
   ],
   "source": [
    "y"
   ]
  },
  {
   "cell_type": "code",
<<<<<<< Updated upstream
   "execution_count": 66,
=======
   "execution_count": 14,
>>>>>>> Stashed changes
   "id": "44ab3532-5ccd-47dc-a2b7-44d523df9b04",
   "metadata": {},
   "outputs": [],
   "source": [
    "y_all_comb = pc.get_labels_for_all_combinations(y)"
   ]
  },
  {
   "cell_type": "code",
<<<<<<< Updated upstream
   "execution_count": 67,
=======
   "execution_count": 15,
>>>>>>> Stashed changes
   "id": "52c66b86-56ee-4889-9002-a1f56b5cb911",
   "metadata": {
    "tags": []
   },
   "outputs": [
    {
     "name": "stdout",
     "output_type": "stream",
     "text": [
      "Training split: 38790\n",
      "Validation split: 4311\n"
     ]
    }
   ],
   "source": [
    "folds = pc.split_data(firstModelData[\"labels\"], y_all_comb)"
   ]
  },
  {
   "cell_type": "code",
<<<<<<< Updated upstream
   "execution_count": 68,
=======
   "execution_count": 16,
>>>>>>> Stashed changes
   "id": "df9c0c95-f816-40ea-8b68-4a94201628bd",
   "metadata": {},
   "outputs": [],
   "source": [
    "order_array = folds[0][0]"
   ]
  },
  {
   "cell_type": "code",
<<<<<<< Updated upstream
   "execution_count": 69,
=======
   "execution_count": 17,
>>>>>>> Stashed changes
   "id": "5e576309-3e53-4832-acc4-96ce3b20f0a8",
   "metadata": {},
   "outputs": [],
   "source": [
    "def shuffle_batch_generator_demo(batch_size, gen_x,gen_y, gen_z): \n",
    "    np.random.shuffle(order_array)\n",
    "    batch_features = np.zeros((batch_size,5000, 12))\n",
    "    batch_labels = np.zeros((batch_size,snomed_classes.shape[0])) #drop undef class\n",
    "    batch_demo_data = np.zeros((batch_size,2))\n",
    "    while True:\n",
    "        for i in range(batch_size):\n",
    "\n",
    "            batch_features[i] = next(gen_x)\n",
    "            batch_labels[i] = next(gen_y)\n",
    "            batch_demo_data[i] = next(gen_z)\n",
    "\n",
    "        X_combined = [batch_features, batch_demo_data]\n",
    "        yield X_combined, batch_labels\n",
    "        \n",
    "def shuffle_batch_generator(batch_size, gen_x,gen_y): \n",
    "    np.random.shuffle(order_array)\n",
    "    batch_features = np.zeros((batch_size,5000, 12))\n",
    "    batch_labels = np.zeros((batch_size,snomed_classes.shape[0])) #drop undef class\n",
    "    while True:\n",
    "        for i in range(batch_size):\n",
    "\n",
    "            batch_features[i] = next(gen_x)\n",
    "            batch_labels[i] = next(gen_y)\n",
    "            \n",
    "        yield batch_features, batch_labels\n",
    "\n",
    "def generate_y_shuffle(y_train):\n",
    "    while True:\n",
    "        for i in order_array:\n",
    "            y_shuffled = y_train[i]\n",
    "            yield y_shuffled\n",
    "\n",
    "\n",
    "def generate_X_shuffle(X_train):\n",
    "    while True:\n",
    "        for i in order_array:\n",
    "                #if filepath.endswith(\".mat\"):\n",
    "                    data, header_data = pc.load_challenge_data(X_train[i])\n",
    "                    X_train_new = pad_sequences(data, maxlen=5000, truncating='post',padding=\"post\")\n",
    "                    X_train_new = X_train_new.reshape(5000,12)\n",
    "                    yield X_train_new\n",
    "\n",
    "def generate_z_shuffle(age_train, gender_train):\n",
    "    while True:\n",
    "        for i in order_array:\n",
    "            gen_age = age_train[i]\n",
    "            gen_gender = gender_train[i]\n",
    "            z_train = [gen_age , gen_gender]\n",
    "            yield z_train"
   ]
  },
  {
   "cell_type": "code",
<<<<<<< Updated upstream
   "execution_count": 70,
=======
   "execution_count": 18,
>>>>>>> Stashed changes
   "id": "b8d2308f-294c-47b1-84aa-16460883ae34",
   "metadata": {},
   "outputs": [],
   "source": [
    "new_weights=pc.calculating_class_weights(y)"
   ]
  },
  {
   "cell_type": "code",
<<<<<<< Updated upstream
   "execution_count": 71,
=======
   "execution_count": 19,
>>>>>>> Stashed changes
   "id": "cac5da93-5d3c-4e90-9ec0-dc38d68fd910",
   "metadata": {},
   "outputs": [
    {
     "data": {
      "text/plain": [
       "{0: 1.0337954523649622, 1: 0.6353518676847785}"
      ]
     },
<<<<<<< Updated upstream
     "execution_count": 71,
=======
     "execution_count": 19,
>>>>>>> Stashed changes
     "metadata": {},
     "output_type": "execute_result"
    }
   ],
   "source": [
    "keys = np.arange(0,3,1)\n",
    "weight_dictionary = dict(zip(keys, new_weights.T[1]))\n",
    "weight_dictionary"
   ]
  },
  {
   "cell_type": "code",
<<<<<<< Updated upstream
   "execution_count": 72,
=======
   "execution_count": 20,
>>>>>>> Stashed changes
   "id": "b65e178e-690a-4815-9159-25b30104a608",
   "metadata": {},
   "outputs": [],
   "source": [
    "reduce_lr = tf.keras.callbacks.ReduceLROnPlateau(\n",
    "    monitor='val_AUC', factor=0.1, patience=3, verbose=1, mode='max',\n",
    "    min_delta=0.0001, cooldown=0, min_lr=0\n",
    ")\n",
    "\n",
    "early_stop = tf.keras.callbacks.EarlyStopping(monitor='val_accuracy', mode='max', verbose=1, patience=4)"
   ]
  },
  {
   "cell_type": "code",
<<<<<<< Updated upstream
   "execution_count": 73,
=======
   "execution_count": 21,
>>>>>>> Stashed changes
   "id": "91360c3d-168b-4c2a-926e-0bce2dae4090",
   "metadata": {},
   "outputs": [],
   "source": [
    "from scipy import optimize\n",
    "def thr_chall_metrics(thr, label, output_prob):\n",
    "    return -pc.compute_challenge_metric_for_opt(label, np.array(output_prob>thr))"
   ]
  },
  {
   "cell_type": "code",
<<<<<<< Updated upstream
   "execution_count": 74,
=======
   "execution_count": 22,
>>>>>>> Stashed changes
   "id": "7571f600-0683-4b88-a3dd-d50d8233a4eb",
   "metadata": {},
   "outputs": [],
   "source": [
    "def myFCN(classes=27):\n",
    "    inputlayer = keras.layers.Input(shape=(5000,12)) \n",
    "\n",
    "    conv1 = keras.layers.Conv1D(filters=128, kernel_size=8,input_shape=(5000,12), padding='same')(inputlayer)\n",
    "    conv1 = keras.layers.BatchNormalization()(conv1)\n",
    "    conv1 = keras.layers.Activation(activation='relu')(conv1)\n",
    "\n",
    "    gap_layer = keras.layers.GlobalAveragePooling1D()(conv1)\n",
    "\n",
    "    outputlayer = keras.layers.Dense(classes, activation='sigmoid')(gap_layer)\n",
    "\n",
    "    model = keras.Model(inputs=inputlayer, outputs=outputlayer)\n",
    "    model.compile(loss=tf.keras.losses.BinaryCrossentropy(), optimizer=tf.keras.optimizers.Adam(learning_rate=0.002), metrics=[tf.keras.metrics.BinaryAccuracy(\n",
    "        name='accuracy', dtype=None, threshold=0.5),tf.keras.metrics.Recall(name='Recall'),tf.keras.metrics.Precision(name='Precision'), \n",
    "                    tf.keras.metrics.AUC(\n",
    "        num_thresholds=200,\n",
    "        curve=\"ROC\",\n",
    "        summation_method=\"interpolation\",\n",
    "        name=\"AUC\",\n",
    "        dtype=None,\n",
    "        thresholds=None,\n",
    "        multi_label=True,\n",
    "        label_weights=None,\n",
    "    )])\n",
    "\n",
    "    return model"
   ]
  },
  {
   "cell_type": "code",
<<<<<<< Updated upstream
   "execution_count": 78,
=======
   "execution_count": 23,
>>>>>>> Stashed changes
   "id": "86e35489-c3fe-42c1-92fa-09a7ecd30d02",
   "metadata": {},
   "outputs": [
    {
     "name": "stdout",
     "output_type": "stream",
     "text": [
      "Metal device set to: Apple M1\n"
     ]
    },
    {
     "name": "stderr",
     "output_type": "stream",
     "text": [
      "2022-03-15 16:35:31.692536: I tensorflow/core/common_runtime/pluggable_device/pluggable_device_factory.cc:305] Could not identify NUMA node of platform GPU ID 0, defaulting to 0. Your kernel may not have been built with NUMA support.\n",
      "2022-03-15 16:35:31.692658: I tensorflow/core/common_runtime/pluggable_device/pluggable_device_factory.cc:271] Created TensorFlow device (/job:localhost/replica:0/task:0/device:GPU:0 with 0 MB memory) -> physical PluggableDevice (device: 0, name: METAL, pci bus id: <undefined>)\n"
     ]
    }
   ],
   "source": [
    "model = pc.FCN(classes=2)"
   ]
  },
  {
   "cell_type": "code",
<<<<<<< Updated upstream
   "execution_count": 23,
=======
   "execution_count": 24,
>>>>>>> Stashed changes
   "id": "44e24fa2-7929-4326-8ef7-545681cf08cf",
   "metadata": {},
   "outputs": [
    {
     "ename": "ValueError",
     "evalue": "Layer count mismatch when loading weights from file. Model expected 7 layers, found 30 saved layers.",
     "output_type": "error",
     "traceback": [
      "\u001b[0;31m---------------------------------------------------------------------------\u001b[0m",
      "\u001b[0;31mValueError\u001b[0m                                Traceback (most recent call last)",
      "Input \u001b[0;32mIn [23]\u001b[0m, in \u001b[0;36m<cell line: 1>\u001b[0;34m()\u001b[0m\n\u001b[0;32m----> 1\u001b[0m \u001b[43mmodel\u001b[49m\u001b[38;5;241;43m.\u001b[39;49m\u001b[43mload_weights\u001b[49m\u001b[43m(\u001b[49m\u001b[38;5;124;43mf\u001b[39;49m\u001b[38;5;124;43m\"\u001b[39;49m\u001b[38;5;124;43mmodelweights_newshape.h5\u001b[39;49m\u001b[38;5;124;43m\"\u001b[39;49m\u001b[43m)\u001b[49m\n",
      "File \u001b[0;32m~/miniforge3/envs/mlp/lib/python3.8/site-packages/keras/utils/traceback_utils.py:67\u001b[0m, in \u001b[0;36mfilter_traceback.<locals>.error_handler\u001b[0;34m(*args, **kwargs)\u001b[0m\n\u001b[1;32m     65\u001b[0m \u001b[38;5;28;01mexcept\u001b[39;00m \u001b[38;5;167;01mException\u001b[39;00m \u001b[38;5;28;01mas\u001b[39;00m e:  \u001b[38;5;66;03m# pylint: disable=broad-except\u001b[39;00m\n\u001b[1;32m     66\u001b[0m   filtered_tb \u001b[38;5;241m=\u001b[39m _process_traceback_frames(e\u001b[38;5;241m.\u001b[39m__traceback__)\n\u001b[0;32m---> 67\u001b[0m   \u001b[38;5;28;01mraise\u001b[39;00m e\u001b[38;5;241m.\u001b[39mwith_traceback(filtered_tb) \u001b[38;5;28;01mfrom\u001b[39;00m \u001b[38;5;28mNone\u001b[39m\n\u001b[1;32m     68\u001b[0m \u001b[38;5;28;01mfinally\u001b[39;00m:\n\u001b[1;32m     69\u001b[0m   \u001b[38;5;28;01mdel\u001b[39;00m filtered_tb\n",
      "File \u001b[0;32m~/miniforge3/envs/mlp/lib/python3.8/site-packages/keras/saving/hdf5_format.py:728\u001b[0m, in \u001b[0;36mload_weights_from_hdf5_group\u001b[0;34m(f, model)\u001b[0m\n\u001b[1;32m    726\u001b[0m layer_names \u001b[38;5;241m=\u001b[39m filtered_layer_names\n\u001b[1;32m    727\u001b[0m \u001b[38;5;28;01mif\u001b[39;00m \u001b[38;5;28mlen\u001b[39m(layer_names) \u001b[38;5;241m!=\u001b[39m \u001b[38;5;28mlen\u001b[39m(filtered_layers):\n\u001b[0;32m--> 728\u001b[0m   \u001b[38;5;28;01mraise\u001b[39;00m \u001b[38;5;167;01mValueError\u001b[39;00m(\n\u001b[1;32m    729\u001b[0m       \u001b[38;5;124mf\u001b[39m\u001b[38;5;124m'\u001b[39m\u001b[38;5;124mLayer count mismatch when loading weights from file. \u001b[39m\u001b[38;5;124m'\u001b[39m\n\u001b[1;32m    730\u001b[0m       \u001b[38;5;124mf\u001b[39m\u001b[38;5;124m'\u001b[39m\u001b[38;5;124mModel expected \u001b[39m\u001b[38;5;132;01m{\u001b[39;00m\u001b[38;5;28mlen\u001b[39m(filtered_layers)\u001b[38;5;132;01m}\u001b[39;00m\u001b[38;5;124m layers, found \u001b[39m\u001b[38;5;124m'\u001b[39m\n\u001b[1;32m    731\u001b[0m       \u001b[38;5;124mf\u001b[39m\u001b[38;5;124m'\u001b[39m\u001b[38;5;132;01m{\u001b[39;00m\u001b[38;5;28mlen\u001b[39m(layer_names)\u001b[38;5;132;01m}\u001b[39;00m\u001b[38;5;124m saved layers.\u001b[39m\u001b[38;5;124m'\u001b[39m)\n\u001b[1;32m    733\u001b[0m \u001b[38;5;66;03m# We batch weight value assignments in a single backend call\u001b[39;00m\n\u001b[1;32m    734\u001b[0m \u001b[38;5;66;03m# which provides a speedup in TensorFlow.\u001b[39;00m\n\u001b[1;32m    735\u001b[0m weight_value_tuples \u001b[38;5;241m=\u001b[39m []\n",
      "\u001b[0;31mValueError\u001b[0m: Layer count mismatch when loading weights from file. Model expected 7 layers, found 30 saved layers."
     ]
    }
   ],
   "source": [
    "#model.load_weights(f\"modelweights_newshape.h5\")"
   ]
  },
  {
   "cell_type": "code",
<<<<<<< Updated upstream
   "execution_count": 79,
=======
   "execution_count": 25,
>>>>>>> Stashed changes
   "id": "785978e5-3327-4c98-9997-07092d08c256",
   "metadata": {},
   "outputs": [
    {
     "name": "stdout",
     "output_type": "stream",
     "text": [
<<<<<<< Updated upstream
      "Epoch 1/2\n"
=======
      "Epoch 1/5\n"
>>>>>>> Stashed changes
     ]
    },
    {
     "name": "stderr",
     "output_type": "stream",
     "text": [
<<<<<<< Updated upstream
      "2022-03-15 21:39:59.768448: I tensorflow/core/grappler/optimizers/custom_graph_optimizer_registry.cc:113] Plugin optimizer for device_type GPU is enabled.\n"
=======
      "2022-03-15 16:35:34.613640: W tensorflow/core/platform/profile_utils/cpu_utils.cc:128] Failed to get CPU frequency: 0 Hz\n",
      "2022-03-15 16:35:36.542480: I tensorflow/core/grappler/optimizers/custom_graph_optimizer_registry.cc:113] Plugin optimizer for device_type GPU is enabled.\n"
>>>>>>> Stashed changes
     ]
    },
    {
     "name": "stdout",
     "output_type": "stream",
     "text": [
<<<<<<< Updated upstream
      "1293/1293 [==============================] - ETA: 0s - loss: 0.4139 - accuracy: 0.7400 - Recall: 0.8974 - Precision: 0.7453 - AUC: 0.8028"
=======
      "1293/1293 [==============================] - ETA: 0s - loss: 0.7694 - accuracy: 0.7427 - Recall: 0.5236 - Precision: 0.6393 - AUC: 0.7780"
>>>>>>> Stashed changes
     ]
    },
    {
     "name": "stderr",
     "output_type": "stream",
     "text": [
<<<<<<< Updated upstream
      "2022-03-15 21:49:39.192845: I tensorflow/core/grappler/optimizers/custom_graph_optimizer_registry.cc:113] Plugin optimizer for device_type GPU is enabled.\n"
=======
      "2022-03-15 17:01:25.014516: I tensorflow/core/grappler/optimizers/custom_graph_optimizer_registry.cc:113] Plugin optimizer for device_type GPU is enabled.\n"
>>>>>>> Stashed changes
     ]
    },
    {
     "name": "stdout",
     "output_type": "stream",
     "text": [
<<<<<<< Updated upstream
      "1293/1293 [==============================] - 602s 462ms/step - loss: 0.4139 - accuracy: 0.7400 - Recall: 0.8974 - Precision: 0.7453 - AUC: 0.8028 - val_loss: 0.6552 - val_accuracy: 0.6645 - val_Recall: 0.6451 - val_Precision: 0.7883 - val_AUC: 0.8414 - lr: 0.0010\n",
      "Epoch 2/2\n",
      "1293/1293 [==============================] - 608s 470ms/step - loss: 0.3783 - accuracy: 0.7734 - Recall: 0.8906 - Precision: 0.7826 - AUC: 0.8429 - val_loss: 0.5147 - val_accuracy: 0.7327 - val_Recall: 0.7610 - val_Precision: 0.8071 - val_AUC: 0.8557 - lr: 0.0010\n"
     ]
=======
      "1293/1293 [==============================] - 1598s 1s/step - loss: 0.7694 - accuracy: 0.7427 - Recall: 0.5236 - Precision: 0.6393 - AUC: 0.7780 - val_loss: 0.4313 - val_accuracy: 0.7931 - val_Recall: 0.6407 - val_Precision: 0.7102 - val_AUC: 0.8447 - lr: 0.0100\n",
      "Epoch 2/5\n",
      "1293/1293 [==============================] - 1857s 1s/step - loss: 0.6934 - accuracy: 0.7773 - Recall: 0.6210 - Precision: 0.6824 - AUC: 0.8329 - val_loss: 0.4195 - val_accuracy: 0.8041 - val_Recall: 0.6778 - val_Precision: 0.7186 - val_AUC: 0.8579 - lr: 0.0100\n",
      "Epoch 3/5\n",
      "1293/1293 [==============================] - 1825s 1s/step - loss: 0.6587 - accuracy: 0.7944 - Recall: 0.6568 - Precision: 0.7060 - AUC: 0.8549 - val_loss: 0.4411 - val_accuracy: 0.8075 - val_Recall: 0.6899 - val_Precision: 0.7208 - val_AUC: 0.8688 - lr: 0.0100\n",
      "Epoch 4/5\n",
      "1293/1293 [==============================] - 1974s 2s/step - loss: 0.6180 - accuracy: 0.8133 - Recall: 0.6941 - Precision: 0.7319 - AUC: 0.8780 - val_loss: 0.4342 - val_accuracy: 0.8021 - val_Recall: 0.6783 - val_Precision: 0.7139 - val_AUC: 0.8805 - lr: 0.0100\n",
      "Epoch 5/5\n",
      "1293/1293 [==============================] - 2073s 2s/step - loss: 0.5796 - accuracy: 0.8297 - Recall: 0.7247 - Precision: 0.7547 - AUC: 0.8964 - val_loss: 0.3421 - val_accuracy: 0.8527 - val_Recall: 0.7599 - val_Precision: 0.7902 - val_AUC: 0.9124 - lr: 0.0100\n"
     ]
    }
   ],
   "source": [
    "batchsize = 30\n",
    "history = model.fit(\n",
    "    x=shuffle_batch_generator(batch_size=batchsize, gen_x=generate_X_shuffle(firstModelData[\"ecg_filenames\"]), \n",
    "    gen_y=generate_y_shuffle(y)), \n",
    "    epochs=5, \n",
    "    steps_per_epoch=(len(order_array)/batchsize), \n",
    "    validation_data=pc.generate_validation_data(firstModelData[\"ecg_filenames\"],y,folds[0][1]), \n",
    "    validation_freq=1, \n",
    "    class_weight=weight_dictionary, \n",
    "    callbacks=[reduce_lr]\n",
    ")"
   ]
  },
  {
   "cell_type": "code",
   "execution_count": 26,
   "id": "d7214fcc-9e0e-4404-9429-a6c89a5dd553",
   "metadata": {},
   "outputs": [],
   "source": [
    "model.save_weights(\"modelweights_newShape31.h5\")"
   ]
  },
  {
   "cell_type": "code",
   "execution_count": 35,
   "id": "efa539af-e6b4-49c2-adbe-72015e1a2aa9",
   "metadata": {},
   "outputs": [
    {
     "data": {
      "text/plain": [
       "[{'loss': [0.7694423198699951,\n",
       "   0.6934054493904114,\n",
       "   0.6587082743644714,\n",
       "   0.617952823638916,\n",
       "   0.5795790553092957],\n",
       "  'accuracy': [0.7427082061767578,\n",
       "   0.7772963643074036,\n",
       "   0.7944228649139404,\n",
       "   0.8132935166358948,\n",
       "   0.829715371131897],\n",
       "  'Recall': [0.5235627889633179,\n",
       "   0.6209589838981628,\n",
       "   0.6568445563316345,\n",
       "   0.6941221952438354,\n",
       "   0.7247228622436523],\n",
       "  'Precision': [0.6392709612846375,\n",
       "   0.682351291179657,\n",
       "   0.705965518951416,\n",
       "   0.7319161891937256,\n",
       "   0.754684567451477],\n",
       "  'AUC': [0.7780389785766602,\n",
       "   0.8328740000724792,\n",
       "   0.854873538017273,\n",
       "   0.8779890537261963,\n",
       "   0.8964221477508545],\n",
       "  'val_loss': [0.43129676580429077,\n",
       "   0.419536292552948,\n",
       "   0.4411250650882721,\n",
       "   0.4341994524002075,\n",
       "   0.3421049118041992],\n",
       "  'val_accuracy': [0.7930875420570374,\n",
       "   0.8041447401046753,\n",
       "   0.8075465559959412,\n",
       "   0.8021341562271118,\n",
       "   0.8527023196220398],\n",
       "  'val_Recall': [0.6406866312026978,\n",
       "   0.6778010129928589,\n",
       "   0.6898631453514099,\n",
       "   0.6782649159431458,\n",
       "   0.7599164843559265],\n",
       "  'val_Precision': [0.7102082967758179,\n",
       "   0.7186424732208252,\n",
       "   0.7207949757575989,\n",
       "   0.7138671875,\n",
       "   0.7901592254638672],\n",
       "  'val_AUC': [0.8446685075759888,\n",
       "   0.857928991317749,\n",
       "   0.8688442707061768,\n",
       "   0.8804678916931152,\n",
       "   0.9123690128326416],\n",
       "  'lr': [0.01, 0.01, 0.01, 0.01, 0.01]}]"
      ]
     },
     "execution_count": 35,
     "metadata": {},
     "output_type": "execute_result"
>>>>>>> Stashed changes
    }
   ],
   "source": [
    "[history.history]"
   ]
  },
  {
   "cell_type": "code",
   "execution_count": 27,
   "id": "fa308630-7b70-4a51-8e65-b4bfbd684d17",
   "metadata": {},
   "outputs": [],
   "source": [
    "model.load_weights(\"modelweights_newShape31.h5\")"
   ]
  },
  {
   "cell_type": "code",
   "execution_count": 40,
   "id": "3b7e3b0f-b4dc-4a23-9ef8-fd8b1084551a",
   "metadata": {},
   "outputs": [
    {
     "name": "stdout",
     "output_type": "stream",
     "text": [
      "Epoch 1/5\n",
      "1293/1293 [==============================] - 1734s 1s/step - loss: 0.4509 - accuracy: 0.8788 - Recall: 0.8125 - Precision: 0.8220 - AUC: 0.9409 - val_loss: 0.2973 - val_accuracy: 0.8799 - val_Recall: 0.8068 - val_Precision: 0.8285 - val_AUC: 0.9406 - lr: 0.0100\n",
      "Epoch 2/5\n",
      "1293/1293 [==============================] - 1737s 1s/step - loss: 0.4362 - accuracy: 0.8840 - Recall: 0.8208 - Precision: 0.8295 - AUC: 0.9449 - val_loss: 0.3052 - val_accuracy: 0.8695 - val_Recall: 0.7889 - val_Precision: 0.8138 - val_AUC: 0.9375 - lr: 0.0100\n",
      "Epoch 3/5\n",
      "1293/1293 [==============================] - ETA: 0s - loss: 0.4279 - accuracy: 0.8863 - Recall: 0.8242 - Precision: 0.8330 - AUC: 0.9470\n",
      "Epoch 3: ReduceLROnPlateau reducing learning rate to 0.0009999999776482583.\n",
      "1293/1293 [==============================] - 1741s 1s/step - loss: 0.4279 - accuracy: 0.8863 - Recall: 0.8242 - Precision: 0.8330 - AUC: 0.9470 - val_loss: 0.3075 - val_accuracy: 0.8831 - val_Recall: 0.8167 - val_Precision: 0.8298 - val_AUC: 0.9373 - lr: 0.0100\n",
      "Epoch 4/5\n",
      "1293/1293 [==============================] - 1748s 1s/step - loss: 0.3881 - accuracy: 0.9000 - Recall: 0.8461 - Precision: 0.8527 - AUC: 0.9564 - val_loss: 0.2907 - val_accuracy: 0.8895 - val_Recall: 0.8307 - val_Precision: 0.8367 - val_AUC: 0.9470 - lr: 1.0000e-03\n",
      "Epoch 5/5\n",
      "1293/1293 [==============================] - 1754s 1s/step - loss: 0.3726 - accuracy: 0.9048 - Recall: 0.8538 - Precision: 0.8596 - AUC: 0.9597 - val_loss: 0.2808 - val_accuracy: 0.8909 - val_Recall: 0.8328 - val_Precision: 0.8388 - val_AUC: 0.9477 - lr: 1.0000e-03\n"
     ]
    }
   ],
   "source": [
    "batchsize = 30\n",
    "history2 = model.fit(\n",
    "    x=shuffle_batch_generator(batch_size=batchsize, gen_x=generate_X_shuffle(firstModelData[\"ecg_filenames\"]), \n",
    "    gen_y=generate_y_shuffle(y)), \n",
<<<<<<< Updated upstream
    "    epochs=30, \n",
=======
    "    epochs=5, \n",
>>>>>>> Stashed changes
    "    steps_per_epoch=(len(order_array)/batchsize), \n",
    "    validation_data=pc.generate_validation_data(firstModelData[\"ecg_filenames\"],y,folds[0][1]), \n",
    "    validation_freq=1, \n",
    "    class_weight=weight_dictionary, \n",
    "    callbacks=[reduce_lr]\n",
    ")"
   ]
  },
  {
   "cell_type": "code",
   "execution_count": 37,
   "id": "4f39fe8b-23c8-4407-a11e-07ed8e481d57",
   "metadata": {},
   "outputs": [],
   "source": [
    "model.save_weights(\"modelweights_newShape31.h5\")"
   ]
  },
  {
   "cell_type": "code",
   "execution_count": 38,
   "id": "3ed0de45-29e3-49a3-936d-d78fcb27c96c",
   "metadata": {},
   "outputs": [],
   "source": [
    "model.load_weights(\"modelweights_newShape31.h5\")"
   ]
  },
  {
   "cell_type": "code",
   "execution_count": 39,
   "id": "bab40cbf-5532-4e41-86f7-57d26ff2120f",
   "metadata": {},
   "outputs": [
    {
     "name": "stdout",
     "output_type": "stream",
     "text": [
      "Epoch 1/5\n",
      "1293/1293 [==============================] - 1583s 1s/step - loss: 0.4810 - accuracy: 0.8671 - Recall: 0.7932 - Precision: 0.8053 - AUC: 0.9321 - val_loss: 0.4867 - val_accuracy: 0.7933 - val_Recall: 0.6776 - val_Precision: 0.6948 - val_AUC: 0.8881 - lr: 0.0100\n",
      "Epoch 2/5\n",
      "1293/1293 [==============================] - 1641s 1s/step - loss: 0.4670 - accuracy: 0.8721 - Recall: 0.8011 - Precision: 0.8125 - AUC: 0.9363 - val_loss: 0.4413 - val_accuracy: 0.8035 - val_Recall: 0.6885 - val_Precision: 0.7124 - val_AUC: 0.8930 - lr: 0.0100\n",
      "Epoch 3/5\n",
      "1293/1293 [==============================] - 1713s 1s/step - loss: 0.4556 - accuracy: 0.8770 - Recall: 0.8092 - Precision: 0.8195 - AUC: 0.9396 - val_loss: 0.3339 - val_accuracy: 0.8563 - val_Recall: 0.7713 - val_Precision: 0.7922 - val_AUC: 0.9207 - lr: 0.0100\n",
      "Epoch 4/5\n",
      "1293/1293 [==============================] - 1725s 1s/step - loss: 0.4501 - accuracy: 0.8782 - Recall: 0.8109 - Precision: 0.8215 - AUC: 0.9413 - val_loss: 0.3194 - val_accuracy: 0.8629 - val_Recall: 0.7873 - val_Precision: 0.7986 - val_AUC: 0.9268 - lr: 0.0100\n",
      "Epoch 5/5\n",
      "1293/1293 [==============================] - 1736s 1s/step - loss: 0.4390 - accuracy: 0.8828 - Recall: 0.8187 - Precision: 0.8279 - AUC: 0.9443 - val_loss: 0.3017 - val_accuracy: 0.8699 - val_Recall: 0.7938 - val_Precision: 0.8119 - val_AUC: 0.9285 - lr: 0.0100\n"
     ]
    }
   ],
   "source": [
    "batchsize = 30\n",
    "history3 = model.fit(\n",
    "    x=shuffle_batch_generator(batch_size=batchsize, gen_x=generate_X_shuffle(firstModelData[\"ecg_filenames\"]), \n",
    "    gen_y=generate_y_shuffle(y)), \n",
    "    epochs=5, \n",
    "    steps_per_epoch=(len(order_array)/batchsize), \n",
    "    validation_data=pc.generate_validation_data(firstModelData[\"ecg_filenames\"],y,folds[0][1]), \n",
    "    validation_freq=1, \n",
    "    class_weight=weight_dictionary, \n",
    "    callbacks=[reduce_lr]\n",
    ")"
   ]
  },
  {
   "cell_type": "code",
   "execution_count": 41,
   "id": "51831cc9-6967-46fe-a721-17fb03bb6737",
   "metadata": {},
   "outputs": [],
   "source": [
    "model.save_weights(\"test.h5\")"
   ]
  },
  {
   "cell_type": "code",
   "execution_count": 44,
   "id": "f5d43340-32bc-4b0e-b723-43fdd81e11a9",
   "metadata": {},
   "outputs": [],
   "source": [
    "model.load_weights(\"test.h5\")"
   ]
  },
  {
   "cell_type": "code",
   "execution_count": 45,
   "id": "1f98f866-8634-4003-8edb-77082cb84e38",
   "metadata": {},
   "outputs": [
    {
     "name": "stdout",
     "output_type": "stream",
     "text": [
      "Epoch 1/5\n",
      "1293/1293 [==============================] - 1881s 1s/step - loss: 0.3826 - accuracy: 0.9009 - Recall: 0.8486 - Precision: 0.8534 - AUC: 0.9573 - val_loss: 0.2706 - val_accuracy: 0.8873 - val_Recall: 0.8281 - val_Precision: 0.8328 - val_AUC: 0.9468 - lr: 1.0000e-03\n",
      "Epoch 2/5\n",
      "1293/1293 [==============================] - 1946s 2s/step - loss: 0.3749 - accuracy: 0.9035 - Recall: 0.8521 - Precision: 0.8575 - AUC: 0.9592 - val_loss: 0.2699 - val_accuracy: 0.8887 - val_Recall: 0.8311 - val_Precision: 0.8344 - val_AUC: 0.9469 - lr: 1.0000e-03\n",
      "Epoch 3/5\n",
      "1293/1293 [==============================] - ETA: 0s - loss: 0.3690 - accuracy: 0.9054 - Recall: 0.8550 - Precision: 0.8602 - AUC: 0.9605\n",
      "Epoch 3: ReduceLROnPlateau reducing learning rate to 9.999999310821295e-05.\n",
      "1293/1293 [==============================] - 1826s 1s/step - loss: 0.3690 - accuracy: 0.9054 - Recall: 0.8550 - Precision: 0.8602 - AUC: 0.9605 - val_loss: 0.2699 - val_accuracy: 0.8886 - val_Recall: 0.8302 - val_Precision: 0.8347 - val_AUC: 0.9465 - lr: 1.0000e-03\n",
      "Epoch 4/5\n",
      "1293/1293 [==============================] - 1819s 1s/step - loss: 0.3579 - accuracy: 0.9082 - Recall: 0.8595 - Precision: 0.8644 - AUC: 0.9631 - val_loss: 0.2616 - val_accuracy: 0.8905 - val_Recall: 0.8330 - val_Precision: 0.8376 - val_AUC: 0.9478 - lr: 1.0000e-04\n",
      "Epoch 5/5\n",
      "1293/1293 [==============================] - 1996s 2s/step - loss: 0.3563 - accuracy: 0.9091 - Recall: 0.8608 - Precision: 0.8658 - AUC: 0.9634 - val_loss: 0.2616 - val_accuracy: 0.8904 - val_Recall: 0.8330 - val_Precision: 0.8373 - val_AUC: 0.9479 - lr: 1.0000e-04\n"
     ]
    }
   ],
   "source": [
    "batchsize = 30\n",
    "history4 = model.fit(\n",
    "    x=shuffle_batch_generator(batch_size=batchsize, gen_x=generate_X_shuffle(firstModelData[\"ecg_filenames\"]), \n",
    "    gen_y=generate_y_shuffle(y)), \n",
    "    epochs=5, \n",
    "    steps_per_epoch=(len(order_array)/batchsize), \n",
    "    validation_data=pc.generate_validation_data(firstModelData[\"ecg_filenames\"],y,folds[0][1]), \n",
    "    validation_freq=1, \n",
    "    class_weight=weight_dictionary, \n",
    "    callbacks=[reduce_lr]\n",
    ")"
   ]
  },
  {
   "cell_type": "code",
   "execution_count": 46,
   "id": "7f8faf04-765e-4d7c-9763-21da27ebe51c",
   "metadata": {},
   "outputs": [],
   "source": [
    "model.save_weights(\"test2.h5\")"
   ]
  },
  {
   "cell_type": "code",
   "execution_count": 47,
   "id": "d671015c-25c6-4461-8a9b-44081f3c3898",
   "metadata": {},
   "outputs": [],
   "source": [
    "model.load_weights(\"test2.h5\")"
   ]
  },
  {
   "cell_type": "code",
   "execution_count": 48,
   "id": "2c713cfc-d4f1-4876-aa8c-66059a065c6c",
   "metadata": {},
   "outputs": [
    {
     "name": "stdout",
     "output_type": "stream",
     "text": [
      "Epoch 1/5\n",
      "1293/1293 [==============================] - 2309s 2s/step - loss: 0.3637 - accuracy: 0.9067 - Recall: 0.8572 - Precision: 0.8621 - AUC: 0.9614 - val_loss: 0.2624 - val_accuracy: 0.8892 - val_Recall: 0.8321 - val_Precision: 0.8350 - val_AUC: 0.9480 - lr: 1.0000e-04\n",
      "Epoch 2/5\n",
      "1293/1293 [==============================] - 2356s 2s/step - loss: 0.3624 - accuracy: 0.9071 - Recall: 0.8580 - Precision: 0.8626 - AUC: 0.9616 - val_loss: 0.2620 - val_accuracy: 0.8894 - val_Recall: 0.8321 - val_Precision: 0.8354 - val_AUC: 0.9481 - lr: 1.0000e-04\n",
      "Epoch 3/5\n",
      "1293/1293 [==============================] - ETA: 0s - loss: 0.3613 - accuracy: 0.9074 - Recall: 0.8584 - Precision: 0.8630 - AUC: 0.9618\n",
      "Epoch 3: ReduceLROnPlateau reducing learning rate to 9.999999019782991e-06.\n",
      "1293/1293 [==============================] - 1958s 2s/step - loss: 0.3613 - accuracy: 0.9074 - Recall: 0.8584 - Precision: 0.8630 - AUC: 0.9618 - val_loss: 0.2618 - val_accuracy: 0.8894 - val_Recall: 0.8318 - val_Precision: 0.8355 - val_AUC: 0.9478 - lr: 1.0000e-04\n",
      "Epoch 4/5\n",
      "1293/1293 [==============================] - 1819s 1s/step - loss: 0.3597 - accuracy: 0.9083 - Recall: 0.8598 - Precision: 0.8643 - AUC: 0.9621 - val_loss: 0.2626 - val_accuracy: 0.8880 - val_Recall: 0.8295 - val_Precision: 0.8338 - val_AUC: 0.9479 - lr: 1.0000e-05\n",
      "Epoch 5/5\n",
      "1293/1293 [==============================] - ETA: 0s - loss: 0.3595 - accuracy: 0.9080 - Recall: 0.8595 - Precision: 0.8639 - AUC: 0.9621\n",
      "Epoch 5: ReduceLROnPlateau reducing learning rate to 9.99999883788405e-07.\n",
      "1293/1293 [==============================] - 1796s 1s/step - loss: 0.3595 - accuracy: 0.9080 - Recall: 0.8595 - Precision: 0.8639 - AUC: 0.9621 - val_loss: 0.2627 - val_accuracy: 0.8877 - val_Recall: 0.8293 - val_Precision: 0.8331 - val_AUC: 0.9479 - lr: 1.0000e-05\n"
     ]
    }
   ],
   "source": [
    "batchsize = 30\n",
    "history5 = model.fit(\n",
    "    x=shuffle_batch_generator(batch_size=batchsize, gen_x=generate_X_shuffle(firstModelData[\"ecg_filenames\"]), \n",
    "    gen_y=generate_y_shuffle(y)), \n",
    "    epochs=5, \n",
    "    steps_per_epoch=(len(order_array)/batchsize), \n",
    "    validation_data=pc.generate_validation_data(firstModelData[\"ecg_filenames\"],y,folds[0][1]), \n",
    "    validation_freq=1, \n",
    "    class_weight=weight_dictionary, \n",
    "    callbacks=[reduce_lr]\n",
    ")"
   ]
  },
  {
   "cell_type": "code",
   "execution_count": 49,
   "id": "32860396-9b78-476e-8692-50eab993c22e",
   "metadata": {},
   "outputs": [],
   "source": [
<<<<<<< Updated upstream
    "model.save_weights(\"modelweights_newShape2.h5\")"
=======
    "model.save_weights(\"test3.h5\")"
>>>>>>> Stashed changes
   ]
  },
  {
   "cell_type": "code",
   "execution_count": 50,
   "id": "df7efe32-8028-473b-91e1-33b56fc4e928",
   "metadata": {},
   "outputs": [],
   "source": [
    "model.load_weights(\"test3.h5\")"
   ]
  },
  {
   "cell_type": "code",
   "execution_count": 51,
   "id": "e4fd5624-0766-4ec0-a559-9474e93dfb8b",
   "metadata": {},
   "outputs": [
    {
     "name": "stdout",
     "output_type": "stream",
     "text": [
      "Epoch 1/5\n",
      "1293/1293 [==============================] - 1792s 1s/step - loss: 0.3584 - accuracy: 0.9095 - Recall: 0.8614 - Precision: 0.8663 - AUC: 0.9625 - val_loss: 0.2630 - val_accuracy: 0.8900 - val_Recall: 0.8332 - val_Precision: 0.8361 - val_AUC: 0.9480 - lr: 1.0000e-06\n",
      "Epoch 2/5\n",
      "1293/1293 [==============================] - 1790s 1s/step - loss: 0.3584 - accuracy: 0.9095 - Recall: 0.8613 - Precision: 0.8663 - AUC: 0.9625 - val_loss: 0.2630 - val_accuracy: 0.8900 - val_Recall: 0.8332 - val_Precision: 0.8361 - val_AUC: 0.9480 - lr: 1.0000e-06\n",
      "Epoch 3/5\n",
      "1293/1293 [==============================] - ETA: 0s - loss: 0.3584 - accuracy: 0.9095 - Recall: 0.8614 - Precision: 0.8664 - AUC: 0.9625\n",
      "Epoch 3: ReduceLROnPlateau reducing learning rate to 9.99999883788405e-08.\n",
      "1293/1293 [==============================] - 1785s 1s/step - loss: 0.3584 - accuracy: 0.9095 - Recall: 0.8614 - Precision: 0.8664 - AUC: 0.9625 - val_loss: 0.2630 - val_accuracy: 0.8900 - val_Recall: 0.8332 - val_Precision: 0.8363 - val_AUC: 0.9480 - lr: 1.0000e-06\n",
      "Epoch 4/5\n",
      "1293/1293 [==============================] - 1783s 1s/step - loss: 0.3584 - accuracy: 0.9095 - Recall: 0.8614 - Precision: 0.8663 - AUC: 0.9625 - val_loss: 0.2629 - val_accuracy: 0.8900 - val_Recall: 0.8332 - val_Precision: 0.8363 - val_AUC: 0.9480 - lr: 1.0000e-07\n",
      "Epoch 5/5\n",
      "1293/1293 [==============================] - ETA: 0s - loss: 0.3584 - accuracy: 0.9095 - Recall: 0.8614 - Precision: 0.8663 - AUC: 0.9625\n",
      "Epoch 5: ReduceLROnPlateau reducing learning rate to 9.999998695775504e-09.\n",
      "1293/1293 [==============================] - 1777s 1s/step - loss: 0.3584 - accuracy: 0.9095 - Recall: 0.8614 - Precision: 0.8663 - AUC: 0.9625 - val_loss: 0.2629 - val_accuracy: 0.8900 - val_Recall: 0.8332 - val_Precision: 0.8363 - val_AUC: 0.9480 - lr: 1.0000e-07\n"
     ]
    }
   ],
   "source": [
    "batchsize = 30\n",
    "history6 = model.fit(\n",
    "    x=shuffle_batch_generator(batch_size=batchsize, gen_x=generate_X_shuffle(firstModelData[\"ecg_filenames\"]), \n",
    "    gen_y=generate_y_shuffle(y)), \n",
    "    epochs=5, \n",
    "    steps_per_epoch=(len(order_array)/batchsize), \n",
    "    validation_data=pc.generate_validation_data(firstModelData[\"ecg_filenames\"],y,folds[0][1]), \n",
    "    validation_freq=1, \n",
    "    class_weight=weight_dictionary, \n",
    "    callbacks=[reduce_lr]\n",
    ")"
   ]
  },
  {
   "cell_type": "code",
   "execution_count": 52,
   "id": "cd0d12e7-8f10-40b0-a574-cfcdbd5ecc27",
   "metadata": {},
   "outputs": [],
   "source": [
    "model.save_weights(\"test4.h5\")"
   ]
  },
  {
   "cell_type": "code",
   "execution_count": 53,
   "id": "409b1dd4-044a-4a97-bf40-79ad9a9ce4a5",
   "metadata": {},
   "outputs": [],
   "source": [
    "model.load_weights(\"test4.h5\")"
   ]
  },
  {
   "cell_type": "code",
   "execution_count": null,
   "id": "3ca4a19d-90ed-47ee-b1af-2312fb61d48c",
   "metadata": {},
   "outputs": [],
   "source": [
    "batchsize = 30\n",
    "history7 = model.fit(\n",
    "    x=shuffle_batch_generator(batch_size=batchsize, gen_x=generate_X_shuffle(firstModelData[\"ecg_filenames\"]), \n",
    "    gen_y=generate_y_shuffle(y)), \n",
    "    epochs=5, \n",
    "    steps_per_epoch=(len(order_array)/batchsize), \n",
    "    validation_data=pc.generate_validation_data(firstModelData[\"ecg_filenames\"],y,folds[0][1]), \n",
    "    validation_freq=1, \n",
    "    class_weight=weight_dictionary, \n",
    "    callbacks=[reduce_lr]\n",
    ")"
   ]
  },
  {
   "cell_type": "code",
   "execution_count": null,
   "id": "d1a94531-0bb6-4ed3-ab66-019c5a1a500d",
   "metadata": {},
   "outputs": [],
   "source": [
    "model.save_weights(\"test5.h5\")"
   ]
  },
  {
   "cell_type": "code",
   "execution_count": null,
   "id": "8c82a8b6-96ae-470c-87ac-2a72cee8aa89",
   "metadata": {},
   "outputs": [],
   "source": []
  },
  {
   "cell_type": "code",
   "execution_count": null,
   "id": "19be0fa8-7223-44db-b904-e2d0e2258ef9",
   "metadata": {},
   "outputs": [],
   "source": []
  }
 ],
 "metadata": {
  "kernelspec": {
   "display_name": "Python 3 (ipykernel)",
   "language": "python",
   "name": "python3"
  },
  "language_info": {
   "codemirror_mode": {
    "name": "ipython",
    "version": 3
   },
   "file_extension": ".py",
   "mimetype": "text/x-python",
   "name": "python",
   "nbconvert_exporter": "python",
   "pygments_lexer": "ipython3",
   "version": "3.8.12"
  }
 },
 "nbformat": 4,
 "nbformat_minor": 5
}
