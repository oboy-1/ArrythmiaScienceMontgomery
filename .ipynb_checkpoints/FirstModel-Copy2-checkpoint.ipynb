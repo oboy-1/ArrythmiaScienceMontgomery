{
 "cells": [
  {
   "cell_type": "code",
   "execution_count": 81,
   "id": "836b8fc2-38aa-4a07-a70e-a902119cffaa",
   "metadata": {},
   "outputs": [
    {
     "name": "stdout",
     "output_type": "stream",
     "text": [
      "1\n",
      "The autoreload extension is already loaded. To reload it, use:ERROR! Session/line number was not unique in database. History logging moved to new session 190\n",
      "\n",
      "  %reload_ext autoreload\n"
     ]
    }
   ],
   "source": [
    "import physionet_challenge_utility_script as pc\n",
    "\n",
    "import ecg_plot\n",
    "import pandas as pd\n",
    "import matplotlib.pyplot as plt\n",
    "import seaborn as sns\n",
    "import tensorflow_addons as tfa\n",
    "import numpy as np\n",
    "import tensorflow as tf\n",
    "from tensorflow import keras\n",
    "from keras.utils.vis_utils import plot_model\n",
    "from keras.preprocessing.sequence import pad_sequences\n",
    "\n",
    "print(1)\n",
    "\n",
    "%load_ext autoreload\n",
    "%autoreload\n",
    "%reload_ext autoreload\n"
   ]
  },
  {
   "cell_type": "code",
   "execution_count": 82,
   "id": "3a8639e3-dece-494c-b6be-9d8d25189300",
   "metadata": {},
   "outputs": [],
   "source": [
    "DATADIR = \"./SM22_MLData\""
   ]
  },
  {
   "cell_type": "code",
   "execution_count": 83,
   "id": "a35be90f-0879-4325-b18b-9280ce66db1e",
   "metadata": {},
   "outputs": [],
   "source": [
    "firstModelData = {}\n",
    "firstModelData[\"gender\"], firstModelData[\"age\"], firstModelData[\"labels\"], firstModelData[\"ecg_filenames\"] = pc.import_key_data(DATADIR)\n",
    "firstModelData[\"ecg_filenames\"] = np.asarray(firstModelData[\"ecg_filenames\"])"
   ]
  },
  {
   "cell_type": "code",
   "execution_count": 84,
   "id": "c37f1a29-4eb5-4470-b953-beb89a480996",
   "metadata": {},
   "outputs": [],
   "source": [
    "cache = firstModelData[\"labels\"]"
   ]
  },
  {
   "cell_type": "code",
   "execution_count": 85,
   "id": "f4efabb8-1458-4b2b-a253-c61f4869358d",
   "metadata": {},
   "outputs": [
    {
     "name": "stdout",
     "output_type": "stream",
     "text": [
      "43101\n"
     ]
    }
   ],
   "source": [
    "\"\"\"\n",
    "Remaps labels into class values (Integer Encoding)\n",
    "val: totalRhythm\n",
    "1 - SR\n",
    "2 - NSR\n",
    "3 - Both\n",
    "\"\"\"\n",
    "\n",
    "print(len(firstModelData[\"labels\"]))\n",
    "for i in range(len(firstModelData[\"labels\"])):\n",
    "    splitLabels = firstModelData[\"labels\"][i].split(\",\")\n",
    "    isSR, isNSR, totalRhythm = 0, 0, 0\n",
    "    if len(splitLabels) > 1:\n",
    "        isNSR = 2 #NSR\n",
    "    if not(\"426783006\" in splitLabels):\n",
    "        isNSR = 2 #NSR\n",
    "    if \"426783006\" in splitLabels:\n",
    "        isSR = 1 #SR\n",
    "    totalRhythm = isSR + isNSR\n",
    "    firstModelData[\"labels\"][i] = str(totalRhythm)\n"
   ]
  },
  {
   "cell_type": "code",
   "execution_count": 86,
   "id": "7eda1a18-09dd-45c6-96fa-13395e5a8735",
   "metadata": {},
   "outputs": [],
   "source": [
    "firstModelData[\"labels\"][0] = \"2,undefined\""
   ]
  },
  {
   "cell_type": "code",
   "execution_count": 87,
   "id": "813cb826-e89a-4a80-ba47-2dfacb0a7497",
   "metadata": {},
   "outputs": [
    {
     "name": "stdout",
     "output_type": "stream",
     "text": [
      "gender data shape: 43101\n",
      "age data shape: 43101\n"
     ]
    }
   ],
   "source": [
    "firstModelData[\"age\"], firstModelData[\"gender\"] = pc.import_gender_and_age(firstModelData[\"age\"], firstModelData[\"gender\"])"
   ]
  },
  {
   "cell_type": "code",
   "execution_count": 88,
   "id": "b48f2643-2d95-4901-b7ab-185269a92f47",
   "metadata": {},
   "outputs": [],
   "source": [
    "SNOMED_scored=pd.read_csv(f\"{DATADIR}/SNOMEDMappings/SNOMED_mappings_scored.csv\", sep=\";\")\n",
    "SNOMED_unscored=pd.read_csv(f\"{DATADIR}/SNOMEDMappings/FIRSTMODELMapping.csv\", sep=\",\")"
   ]
  },
  {
   "cell_type": "code",
   "execution_count": 89,
   "id": "186c0ec8-6644-419b-af53-9215ef4f78d0",
   "metadata": {},
   "outputs": [],
   "source": [
    "df_labels = pd.DataFrame(firstModelData[\"labels\"])"
   ]
  },
  {
   "cell_type": "code",
   "execution_count": 90,
   "id": "6431a74b-f130-4687-a86c-7eba818a71f1",
   "metadata": {},
   "outputs": [
    {
     "name": "stdout",
     "output_type": "stream",
     "text": [
      "The classes we will look at are encoded as SNOMED CT codes:\n",
      "['1' '2' '3' 'undefined']\n",
      "classes: 3\n"
     ]
    }
   ],
   "source": [
    "y , snomed_classes = pc.onehot_encode(df_labels)"
   ]
  },
  {
   "cell_type": "code",
   "execution_count": 91,
   "id": "642bb57b-bcc0-4ad9-b48e-f4f6d414d1f3",
   "metadata": {},
   "outputs": [
    {
     "data": {
      "text/plain": [
       "array([[0, 1, 0],\n",
       "       [0, 1, 0],\n",
       "       [0, 1, 0],\n",
       "       ...,\n",
       "       [0, 1, 0],\n",
       "       [0, 1, 0],\n",
       "       [0, 1, 0]])"
      ]
     },
     "execution_count": 91,
     "metadata": {},
     "output_type": "execute_result"
    }
   ],
   "source": [
    "y"
   ]
  },
  {
   "cell_type": "code",
   "execution_count": 92,
   "id": "44ab3532-5ccd-47dc-a2b7-44d523df9b04",
   "metadata": {},
   "outputs": [],
   "source": [
    "y_all_comb = pc.get_labels_for_all_combinations(y)"
   ]
  },
  {
   "cell_type": "code",
   "execution_count": 93,
   "id": "52c66b86-56ee-4889-9002-a1f56b5cb911",
   "metadata": {
    "tags": []
   },
   "outputs": [
    {
     "name": "stdout",
     "output_type": "stream",
     "text": [
      "Training split: 38790\n",
      "Validation split: 4311\n"
     ]
    }
   ],
   "source": [
    "folds = pc.split_data(firstModelData[\"labels\"], y_all_comb)"
   ]
  },
  {
   "cell_type": "code",
   "execution_count": 94,
   "id": "df9c0c95-f816-40ea-8b68-4a94201628bd",
   "metadata": {},
   "outputs": [],
   "source": [
    "order_array = folds[0][0]"
   ]
  },
  {
   "cell_type": "code",
   "execution_count": 95,
   "id": "5e576309-3e53-4832-acc4-96ce3b20f0a8",
   "metadata": {},
   "outputs": [],
   "source": [
    "def shuffle_batch_generator_demo(batch_size, gen_x,gen_y, gen_z): \n",
    "    np.random.shuffle(order_array)\n",
    "    batch_features = np.zeros((batch_size,5000, 12))\n",
    "    batch_labels = np.zeros((batch_size,snomed_classes.shape[0])) #drop undef class\n",
    "    batch_demo_data = np.zeros((batch_size,2))\n",
    "    while True:\n",
    "        for i in range(batch_size):\n",
    "\n",
    "            batch_features[i] = next(gen_x)\n",
    "            batch_labels[i] = next(gen_y)\n",
    "            batch_demo_data[i] = next(gen_z)\n",
    "\n",
    "        X_combined = [batch_features, batch_demo_data]\n",
    "        yield X_combined, batch_labels\n",
    "        \n",
    "def shuffle_batch_generator(batch_size, gen_x,gen_y): \n",
    "    np.random.shuffle(order_array)\n",
    "    batch_features = np.zeros((batch_size,5000, 12))\n",
    "    batch_labels = np.zeros((batch_size,snomed_classes.shape[0])) #drop undef class\n",
    "    while True:\n",
    "        for i in range(batch_size):\n",
    "\n",
    "            batch_features[i] = next(gen_x)\n",
    "            batch_labels[i] = next(gen_y)\n",
    "            \n",
    "        yield batch_features, batch_labels\n",
    "\n",
    "def generate_y_shuffle(y_train):\n",
    "    while True:\n",
    "        for i in order_array:\n",
    "            y_shuffled = y_train[i]\n",
    "            yield y_shuffled\n",
    "\n",
    "\n",
    "def generate_X_shuffle(X_train):\n",
    "    while True:\n",
    "        for i in order_array:\n",
    "                #if filepath.endswith(\".mat\"):\n",
    "                    data, header_data = pc.load_challenge_data(X_train[i])\n",
    "                    X_train_new = pad_sequences(data, maxlen=5000, truncating='post',padding=\"post\")\n",
    "                    X_train_new = X_train_new.reshape(5000,12)\n",
    "                    yield X_train_new\n",
    "\n",
    "def generate_z_shuffle(age_train, gender_train):\n",
    "    while True:\n",
    "        for i in order_array:\n",
    "            gen_age = age_train[i]\n",
    "            gen_gender = gender_train[i]\n",
    "            z_train = [gen_age , gen_gender]\n",
    "            yield z_train"
   ]
  },
  {
   "cell_type": "code",
   "execution_count": 96,
   "id": "b8d2308f-294c-47b1-84aa-16460883ae34",
   "metadata": {},
   "outputs": [],
   "source": [
    "new_weights=pc.calculating_class_weights(y)"
   ]
  },
  {
   "cell_type": "code",
   "execution_count": 97,
   "id": "cac5da93-5d3c-4e90-9ec0-dc38d68fd910",
   "metadata": {},
   "outputs": [
    {
     "data": {
      "text/plain": [
       "{0: 2.34703768242213, 1: 0.9683441923163334, 2: 1.847608024691358}"
      ]
     },
     "execution_count": 97,
     "metadata": {},
     "output_type": "execute_result"
    }
   ],
   "source": [
    "keys = np.arange(0,3,1)\n",
    "weight_dictionary = dict(zip(keys, new_weights.T[1]))\n",
    "weight_dictionary"
   ]
  },
  {
   "cell_type": "code",
   "execution_count": 98,
   "id": "b65e178e-690a-4815-9159-25b30104a608",
   "metadata": {},
   "outputs": [],
   "source": [
    "reduce_lr = tf.keras.callbacks.ReduceLROnPlateau(\n",
    "    monitor='val_AUC', factor=0.1, patience=2, verbose=1, mode='max',\n",
    "    min_delta=0.0001, cooldown=0, min_lr=0\n",
    ")\n",
    "\n",
    "early_stop = tf.keras.callbacks.EarlyStopping(monitor='val_accuracy', mode='max', verbose=1, patience=4)"
   ]
  },
  {
   "cell_type": "code",
   "execution_count": 19,
   "id": "91360c3d-168b-4c2a-926e-0bce2dae4090",
   "metadata": {},
   "outputs": [],
   "source": [
    "from scipy import optimize\n",
    "def thr_chall_metrics(thr, label, output_prob):\n",
    "    return -pc.compute_challenge_metric_for_opt(label, np.array(output_prob>thr))"
   ]
  },
  {
   "cell_type": "code",
   "execution_count": 20,
   "id": "7571f600-0683-4b88-a3dd-d50d8233a4eb",
   "metadata": {},
   "outputs": [],
   "source": [
    "def myFCN(classes=27):\n",
    "    inputlayer = keras.layers.Input(shape=(5000,12)) \n",
    "\n",
    "    conv1 = keras.layers.Conv1D(filters=128, kernel_size=8,input_shape=(5000,12), padding='same')(inputlayer)\n",
    "    conv1 = keras.layers.BatchNormalization()(conv1)\n",
    "    conv1 = keras.layers.Activation(activation='relu')(conv1)\n",
    "\n",
    "    gap_layer = keras.layers.GlobalAveragePooling1D()(conv1)\n",
    "\n",
    "    outputlayer = keras.layers.Dense(classes, activation='sigmoid')(gap_layer)\n",
    "\n",
    "    model = keras.Model(inputs=inputlayer, outputs=outputlayer)\n",
    "    model.compile(loss=tf.keras.losses.BinaryCrossentropy(), optimizer=tf.keras.optimizers.Adam(learning_rate=0.001), metrics=[tf.keras.metrics.BinaryAccuracy(\n",
    "        name='accuracy', dtype=None, threshold=0.5),tf.keras.metrics.Recall(name='Recall'),tf.keras.metrics.Precision(name='Precision'), \n",
    "                    tf.keras.metrics.AUC(\n",
    "        num_thresholds=200,\n",
    "        curve=\"ROC\",\n",
    "        summation_method=\"interpolation\",\n",
    "        name=\"AUC\",\n",
    "        dtype=None,\n",
    "        thresholds=None,\n",
    "        multi_label=True,\n",
    "        label_weights=None,\n",
    "    )])\n",
    "\n",
    "    return model"
   ]
  },
  {
   "cell_type": "code",
   "execution_count": 99,
   "id": "86e35489-c3fe-42c1-92fa-09a7ecd30d02",
   "metadata": {},
   "outputs": [],
   "source": [
    "model = pc.residual_network_1d(classes=3)"
   ]
  },
  {
   "cell_type": "code",
   "execution_count": 135,
   "id": "fa308630-7b70-4a51-8e65-b4bfbd684d17",
   "metadata": {},
   "outputs": [],
   "source": [
    "model.load_weights(\"test.h5\")"
   ]
  },
  {
   "cell_type": "code",
   "execution_count": 29,
   "id": "68cfbe55-f495-4638-883d-17059db2a6d7",
   "metadata": {},
   "outputs": [],
   "source": [
    "init_thresholds = np.arange(0,1,0.05)"
   ]
  },
  {
   "cell_type": "code",
   "execution_count": 136,
   "id": "b90996cd-ce25-4151-aeed-a402947664b5",
   "metadata": {},
   "outputs": [],
   "source": [
    "dat = pc.generate_validation_data(firstModelData[\"ecg_filenames\"],y,folds[0][1])\n",
    "x = dat[0]\n",
    "y_true = dat[1]\n",
    "y_pred = model.predict(x=x)"
   ]
  },
  {
   "cell_type": "code",
   "execution_count": 137,
   "id": "7bc9a9bd-dc50-433f-b326-66537dc3ac8c",
   "metadata": {},
   "outputs": [
    {
     "data": {
      "text/plain": [
       "array([[5.2749328e-05, 9.8842186e-01, 1.1525367e-02],\n",
       "       [1.3004783e-11, 1.0000000e+00, 2.9322503e-11],\n",
       "       [1.5266984e-11, 1.0000000e+00, 1.5895140e-15],\n",
       "       ...,\n",
       "       [7.4282807e-01, 2.5521106e-01, 1.9608776e-03],\n",
       "       [9.8582241e-05, 9.9990141e-01, 4.2568556e-13],\n",
       "       [1.0000000e+00, 7.3842417e-12, 3.4216630e-20]], dtype=float32)"
      ]
     },
     "execution_count": 137,
     "metadata": {},
     "output_type": "execute_result"
    }
   ],
   "source": [
    "y_pred"
   ]
  },
  {
   "cell_type": "code",
   "execution_count": 150,
   "id": "39a7bddb-e551-48b6-9ef5-577212bfb220",
   "metadata": {},
   "outputs": [
    {
     "ename": "ValueError",
     "evalue": "either both or neither of x and y should be given",
     "output_type": "error",
     "traceback": [
      "\u001b[0;31m---------------------------------------------------------------------------\u001b[0m",
      "\u001b[0;31mValueError\u001b[0m                                Traceback (most recent call last)",
      "Input \u001b[0;32mIn [150]\u001b[0m, in \u001b[0;36m<cell line: 2>\u001b[0;34m()\u001b[0m\n\u001b[1;32m      1\u001b[0m y_pred_round \u001b[38;5;241m=\u001b[39m np\u001b[38;5;241m.\u001b[39mround_(y_pred)\n\u001b[0;32m----> 2\u001b[0m \u001b[43mnp\u001b[49m\u001b[38;5;241;43m.\u001b[39;49m\u001b[43mwhere\u001b[49m\u001b[43m(\u001b[49m\u001b[43my_pred_round\u001b[49m\u001b[43m \u001b[49m\u001b[38;5;241;43m==\u001b[39;49m\u001b[43m \u001b[49m\u001b[43my_true\u001b[49m\u001b[43m,\u001b[49m\u001b[43m \u001b[49m\u001b[43m[\u001b[49m\u001b[43my_pred\u001b[49m\u001b[43m,\u001b[49m\u001b[43m \u001b[49m\u001b[43my_true\u001b[49m\u001b[43m]\u001b[49m\u001b[43m)\u001b[49m\n",
      "File \u001b[0;32m<__array_function__ internals>:5\u001b[0m, in \u001b[0;36mwhere\u001b[0;34m(*args, **kwargs)\u001b[0m\n",
      "\u001b[0;31mValueError\u001b[0m: either both or neither of x and y should be given"
     ]
    }
   ],
   "source": [
    "y_pred_round = np.round_(y_pred)\n",
    "np.where(y_pred_round == y_true, [y_pred, y_true])"
   ]
  },
  {
   "cell_type": "code",
   "execution_count": 31,
   "id": "2295be2b-521b-4fcf-acea-03789d3fae79",
   "metadata": {},
   "outputs": [
    {
     "ename": "ValueError",
     "evalue": "operands could not be broadcast together with shapes (27,27) (3,3) ",
     "output_type": "error",
     "traceback": [
      "\u001b[0;31m---------------------------------------------------------------------------\u001b[0m",
      "\u001b[0;31mValueError\u001b[0m                                Traceback (most recent call last)",
      "Input \u001b[0;32mIn [31]\u001b[0m, in \u001b[0;36m<cell line: 1>\u001b[0;34m()\u001b[0m\n\u001b[0;32m----> 1\u001b[0m all_scores \u001b[38;5;241m=\u001b[39m \u001b[43mpc\u001b[49m\u001b[38;5;241;43m.\u001b[39;49m\u001b[43miterate_threshold\u001b[49m\u001b[43m(\u001b[49m\u001b[43my_pred\u001b[49m\u001b[43m,\u001b[49m\u001b[43m \u001b[49m\u001b[43mfirstModelData\u001b[49m\u001b[43m[\u001b[49m\u001b[38;5;124;43m\"\u001b[39;49m\u001b[38;5;124;43mecg_filenames\u001b[39;49m\u001b[38;5;124;43m\"\u001b[39;49m\u001b[43m]\u001b[49m\u001b[43m,\u001b[49m\u001b[43m \u001b[49m\u001b[43my\u001b[49m\u001b[43m \u001b[49m\u001b[43m,\u001b[49m\u001b[43mfolds\u001b[49m\u001b[43m[\u001b[49m\u001b[38;5;241;43m0\u001b[39;49m\u001b[43m]\u001b[49m\u001b[43m[\u001b[49m\u001b[38;5;241;43m1\u001b[39;49m\u001b[43m]\u001b[49m\u001b[43m)\u001b[49m\n",
      "File \u001b[0;32m~/Documents/GitHub/ArrythmiaScienceMontgomery/physionet_challenge_utility_script.py:953\u001b[0m, in \u001b[0;36miterate_threshold\u001b[0;34m(y_pred, ecg_filenames, y, val_fold)\u001b[0m\n\u001b[1;32m    951\u001b[0m pred_output \u001b[38;5;241m=\u001b[39m y_pred \u001b[38;5;241m>\u001b[39m i\n\u001b[1;32m    952\u001b[0m pred_output \u001b[38;5;241m=\u001b[39m pred_output \u001b[38;5;241m*\u001b[39m \u001b[38;5;241m1\u001b[39m\n\u001b[0;32m--> 953\u001b[0m score \u001b[38;5;241m=\u001b[39m \u001b[43mcompute_challenge_metric_for_opt\u001b[49m\u001b[43m(\u001b[49m\u001b[43mgenerate_validation_data\u001b[49m\u001b[43m(\u001b[49m\u001b[43mecg_filenames\u001b[49m\u001b[43m,\u001b[49m\u001b[43my\u001b[49m\u001b[43m,\u001b[49m\u001b[43mval_fold\u001b[49m\u001b[43m)\u001b[49m\u001b[43m[\u001b[49m\u001b[38;5;241;43m1\u001b[39;49m\u001b[43m]\u001b[49m\u001b[43m,\u001b[49m\u001b[43mpred_output\u001b[49m\u001b[43m)\u001b[49m\n\u001b[1;32m    954\u001b[0m \u001b[38;5;28mprint\u001b[39m(score)\n\u001b[1;32m    955\u001b[0m all_scores\u001b[38;5;241m.\u001b[39mappend(score)\n",
      "File \u001b[0;32m~/Documents/GitHub/ArrythmiaScienceMontgomery/physionet_challenge_utility_script.py:906\u001b[0m, in \u001b[0;36mcompute_challenge_metric_for_opt\u001b[0;34m(labels, outputs)\u001b[0m\n\u001b[1;32m    904\u001b[0m \u001b[38;5;66;03m# Compute the observed score.\u001b[39;00m\n\u001b[1;32m    905\u001b[0m A \u001b[38;5;241m=\u001b[39m compute_modified_confusion_matrix(labels, outputs)\n\u001b[0;32m--> 906\u001b[0m observed_score \u001b[38;5;241m=\u001b[39m np\u001b[38;5;241m.\u001b[39mnansum(\u001b[43mweights\u001b[49m\u001b[43m \u001b[49m\u001b[38;5;241;43m*\u001b[39;49m\u001b[43m \u001b[49m\u001b[43mA\u001b[49m)\n\u001b[1;32m    908\u001b[0m \u001b[38;5;66;03m# Compute the score for the model that always chooses the correct label(s).\u001b[39;00m\n\u001b[1;32m    909\u001b[0m correct_outputs \u001b[38;5;241m=\u001b[39m labels\n",
      "\u001b[0;31mValueError\u001b[0m: operands could not be broadcast together with shapes (27,27) (3,3) "
     ]
    }
   ],
   "source": [
    "all_scores = pc.iterate_threshold(y_pred, firstModelData[\"ecg_filenames\"], y ,folds[0][1])"
   ]
  },
  {
   "cell_type": "code",
   "execution_count": 56,
   "id": "0f2d22b1-e49c-4d5c-a0fe-53349bedb36e",
   "metadata": {},
   "outputs": [
    {
     "ename": "TypeError",
     "evalue": "plot_normalized_conf_matrix() missing 1 required positional argument: 'snomedabbr'",
     "output_type": "error",
     "traceback": [
      "\u001b[0;31m---------------------------------------------------------------------------\u001b[0m",
      "\u001b[0;31mTypeError\u001b[0m                                 Traceback (most recent call last)",
      "Input \u001b[0;32mIn [56]\u001b[0m, in \u001b[0;36m<cell line: 1>\u001b[0;34m()\u001b[0m\n\u001b[0;32m----> 1\u001b[0m \u001b[43mpc\u001b[49m\u001b[38;5;241;43m.\u001b[39;49m\u001b[43mplot_normalized_conf_matrix\u001b[49m\u001b[43m(\u001b[49m\u001b[43my_pred\u001b[49m\u001b[43m,\u001b[49m\u001b[43m \u001b[49m\u001b[43mfirstModelData\u001b[49m\u001b[43m[\u001b[49m\u001b[38;5;124;43m\"\u001b[39;49m\u001b[38;5;124;43mecg_filenames\u001b[39;49m\u001b[38;5;124;43m\"\u001b[39;49m\u001b[43m]\u001b[49m\u001b[43m,\u001b[49m\u001b[43m \u001b[49m\u001b[43my\u001b[49m\u001b[43m,\u001b[49m\u001b[43m \u001b[49m\u001b[43mfolds\u001b[49m\u001b[43m[\u001b[49m\u001b[38;5;241;43m0\u001b[39;49m\u001b[43m]\u001b[49m\u001b[43m[\u001b[49m\u001b[38;5;241;43m1\u001b[39;49m\u001b[43m]\u001b[49m\u001b[43m,\u001b[49m\u001b[43m \u001b[49m\u001b[43msnomed_classes\u001b[49m\u001b[43m,\u001b[49m\u001b[43m \u001b[49m\u001b[43m[\u001b[49m\u001b[38;5;124;43m\"\u001b[39;49m\u001b[38;5;124;43m1\u001b[39;49m\u001b[38;5;124;43m\"\u001b[39;49m\u001b[43m,\u001b[49m\u001b[38;5;124;43m\"\u001b[39;49m\u001b[38;5;124;43m2\u001b[39;49m\u001b[38;5;124;43m\"\u001b[39;49m\u001b[43m,\u001b[49m\u001b[38;5;124;43m\"\u001b[39;49m\u001b[38;5;124;43m3\u001b[39;49m\u001b[38;5;124;43m\"\u001b[39;49m\u001b[43m]\u001b[49m\u001b[43m)\u001b[49m\n",
      "\u001b[0;31mTypeError\u001b[0m: plot_normalized_conf_matrix() missing 1 required positional argument: 'snomedabbr'"
     ]
    }
   ],
   "source": [
    "pc.plot_normalized_conf_matrix(y_pred, firstModelData[\"ecg_filenames\"], y, folds[0][1], snomed_classes, [\"1\",\"2\",\"3\"])"
   ]
  },
  {
   "cell_type": "code",
   "execution_count": 155,
   "id": "82c59329-d1ce-4b2f-b009-288813a22bbb",
   "metadata": {},
   "outputs": [],
   "source": [
    "from sklearn.metrics import confusion_matrix\n",
    "conf_mat = confusion_matrix(y_true.argmax(axis=1), y_pred.argmax(axis=1))"
   ]
  },
  {
   "cell_type": "code",
   "execution_count": 156,
   "id": "45276b4a-3ced-4c97-82fd-5f2075e8cf0d",
   "metadata": {},
   "outputs": [
    {
     "data": {
      "text/plain": [
       "array([[ 754,   71,   94],\n",
       "       [ 149, 1951,  126],\n",
       "       [ 219,   46,  901]])"
      ]
     },
     "execution_count": 156,
     "metadata": {},
     "output_type": "execute_result"
    }
   ],
   "source": [
    "from sklearn.metrics import ConfusionMatrixDisplay\n",
    "conf_mat"
   ]
  },
  {
   "cell_type": "code",
   "execution_count": 157,
   "id": "bc724aee-97ff-4bb0-8794-c3ea91f4d597",
   "metadata": {},
   "outputs": [],
   "source": [
    "disp = ConfusionMatrixDisplay(confusion_matrix=conf_mat, display_labels=[\"1\",\"2\",\"3\"])"
   ]
  },
  {
   "cell_type": "code",
   "execution_count": 158,
   "id": "96ff5953-e5b4-4463-9de5-8e374f0c1f45",
   "metadata": {},
   "outputs": [
    {
     "data": {
      "text/plain": [
       "<sklearn.metrics._plot.confusion_matrix.ConfusionMatrixDisplay at 0x28c57f970>"
      ]
     },
     "execution_count": 158,
     "metadata": {},
     "output_type": "execute_result"
    },
    {
     "data": {
      "image/png": "[encoded data removed]",
      "text/plain": [
       "<Figure size 432x288 with 2 Axes>"
      ]
     },
     "metadata": {},
     "output_type": "display_data"
    }
   ],
   "source": [
    "disp.plot()"
   ]
  },
  {
   "cell_type": "code",
   "execution_count": 111,
   "id": "5aeb2857-6d24-4891-88ae-3bd09d9e00dd",
   "metadata": {},
   "outputs": [],
   "source": []
  },
  {
   "cell_type": "code",
   "execution_count": null,
   "id": "82dd404a-e555-40ff-9dd1-cd5bf9e42d9e",
   "metadata": {},
   "outputs": [],
   "source": []
  }
 ],
 "metadata": {
  "kernelspec": {
   "display_name": "Python 3 (ipykernel)",
   "language": "python",
   "name": "python3"
  },
  "language_info": {
   "codemirror_mode": {
    "name": "ipython",
    "version": 3
   },
   "file_extension": ".py",
   "mimetype": "text/x-python",
   "name": "python",
   "nbconvert_exporter": "python",
   "pygments_lexer": "ipython3",
   "version": "3.8.12"
  }
 },
 "nbformat": 4,
 "nbformat_minor": 5
}
