{
 "cells": [
  {
   "cell_type": "code",
   "execution_count": 86,
   "id": "836b8fc2-38aa-4a07-a70e-a902119cffaa",
   "metadata": {},
   "outputs": [
    {
     "name": "stdout",
     "output_type": "stream",
     "text": [
      "1\n",
      "The autoreload extension is already loaded. To reload it, use:\n",
      "  %reload_ext autoreload\n"
     ]
    }
   ],
   "source": [
    "import physionet_challenge_utility_script as pc\n",
    "\n",
    "import ecg_plot\n",
    "import pandas as pd\n",
    "import matplotlib.pyplot as plt\n",
    "import seaborn as sns\n",
    "import tensorflow_addons as tfa\n",
    "import numpy as np\n",
    "import tensorflow as tf\n",
    "from tensorflow import keras\n",
    "from keras.utils.vis_utils import plot_model\n",
    "from keras.preprocessing.sequence import pad_sequences\n",
    "\n",
    "print(1)\n",
    "\n",
    "%load_ext autoreload\n",
    "%autoreload\n",
    "%reload_ext autoreload\n"
   ]
  },
  {
   "cell_type": "code",
   "execution_count": 87,
   "id": "3a8639e3-dece-494c-b6be-9d8d25189300",
   "metadata": {},
   "outputs": [],
   "source": [
    "DATADIR = \"./SM22_MLData\""
   ]
  },
  {
   "cell_type": "code",
   "execution_count": 88,
   "id": "a35be90f-0879-4325-b18b-9280ce66db1e",
   "metadata": {},
   "outputs": [],
   "source": [
    "firstModelData = {}\n",
    "firstModelData[\"gender\"], firstModelData[\"age\"], firstModelData[\"labels\"], firstModelData[\"ecg_filenames\"] = pc.import_key_data(DATADIR)\n",
    "firstModelData[\"ecg_filenames\"] = np.asarray(firstModelData[\"ecg_filenames\"])"
   ]
  },
  {
   "cell_type": "code",
   "execution_count": 89,
   "id": "c37f1a29-4eb5-4470-b953-beb89a480996",
   "metadata": {},
   "outputs": [],
   "source": [
    "cache = firstModelData[\"labels\"]"
   ]
  },
  {
   "cell_type": "code",
   "execution_count": 90,
   "id": "f4efabb8-1458-4b2b-a253-c61f4869358d",
   "metadata": {},
   "outputs": [
    {
     "name": "stdout",
     "output_type": "stream",
     "text": [
      "43101\n"
     ]
    }
   ],
   "source": [
    "\"\"\"\n",
    "Remaps labels into class values (Integer Encoding)\n",
    "val: totalRhythm\n",
    "1 - SR\n",
    "2 - NSR\n",
    "\"\"\"\n",
    "\n",
    "print(len(firstModelData[\"labels\"]))\n",
    "for i in range(len(firstModelData[\"labels\"])):\n",
    "    splitLabels = firstModelData[\"labels\"][i].split(\",\")\n",
    "    isSR = 0\n",
    "    if \"426783006\" in splitLabels:\n",
    "        isSR = 1 #SR\n",
    "    firstModelData[\"labels\"][i] = str(isSR)\n"
   ]
  },
  {
   "cell_type": "code",
   "execution_count": 91,
   "id": "42ebc73b-1059-4381-862c-9c44561bf23a",
   "metadata": {},
   "outputs": [
    {
     "data": {
      "text/plain": [
       "(20846, 22255)"
      ]
     },
     "execution_count": 91,
     "metadata": {},
     "output_type": "execute_result"
    }
   ],
   "source": [
    "firstModelData[\"labels\"].count('1'), firstModelData[\"labels\"].count('0')"
   ]
  },
  {
   "cell_type": "code",
   "execution_count": 92,
   "id": "7eda1a18-09dd-45c6-96fa-13395e5a8735",
   "metadata": {},
   "outputs": [],
   "source": [
    "firstModelData[\"labels\"][0] = \"undefined\""
   ]
  },
  {
   "cell_type": "code",
   "execution_count": 93,
   "id": "813cb826-e89a-4a80-ba47-2dfacb0a7497",
   "metadata": {},
   "outputs": [
    {
     "name": "stdout",
     "output_type": "stream",
     "text": [
      "gender data shape: 43101\n",
      "age data shape: 43101\n"
     ]
    }
   ],
   "source": [
    "firstModelData[\"age\"], firstModelData[\"gender\"] = pc.import_gender_and_age(firstModelData[\"age\"], firstModelData[\"gender\"])"
   ]
  },
  {
   "cell_type": "code",
   "execution_count": 94,
   "id": "b48f2643-2d95-4901-b7ab-185269a92f47",
   "metadata": {},
   "outputs": [],
   "source": [
    "SNOMED_scored=pd.read_csv(f\"{DATADIR}/SNOMEDMappings/SNOMED_mappings_scored.csv\", sep=\";\")\n",
    "SNOMED_unscored=pd.read_csv(f\"{DATADIR}/SNOMEDMappings/FIRSTMODELMapping.csv\", sep=\",\")"
   ]
  },
  {
   "cell_type": "code",
   "execution_count": 95,
   "id": "186c0ec8-6644-419b-af53-9215ef4f78d0",
   "metadata": {},
   "outputs": [],
   "source": [
    "df_labels = pd.DataFrame(firstModelData[\"labels\"])"
   ]
  },
  {
   "cell_type": "code",
   "execution_count": 96,
   "id": "6431a74b-f130-4687-a86c-7eba818a71f1",
   "metadata": {},
   "outputs": [
    {
     "name": "stdout",
     "output_type": "stream",
     "text": [
      "The classes we will look at are encoded as SNOMED CT codes:\n",
      "['0' '1' 'undefined']\n",
      "classes: 2\n"
     ]
    }
   ],
   "source": [
    "y , snomed_classes = pc.onehot_encode(df_labels)"
   ]
  },
  {
   "cell_type": "code",
   "execution_count": 97,
   "id": "44ab3532-5ccd-47dc-a2b7-44d523df9b04",
   "metadata": {},
   "outputs": [],
   "source": [
    "y_all_comb = pc.get_labels_for_all_combinations(y)"
   ]
  },
  {
   "cell_type": "code",
   "execution_count": 98,
   "id": "52c66b86-56ee-4889-9002-a1f56b5cb911",
   "metadata": {
    "tags": []
   },
   "outputs": [
    {
     "name": "stdout",
     "output_type": "stream",
     "text": [
      "Training split: 38790\n",
      "Validation split: 4311\n"
     ]
    },
    {
     "name": "stderr",
     "output_type": "stream",
     "text": [
      "/Users/ksv/miniforge3/envs/mlp/lib/python3.8/site-packages/sklearn/model_selection/_split.py:676: UserWarning: The least populated class in y has only 1 members, which is less than n_splits=10.\n",
      "  warnings.warn(\n"
     ]
    }
   ],
   "source": [
    "folds = pc.split_data(firstModelData[\"labels\"], y_all_comb)"
   ]
  },
  {
   "cell_type": "code",
   "execution_count": 99,
   "id": "df9c0c95-f816-40ea-8b68-4a94201628bd",
   "metadata": {},
   "outputs": [],
   "source": [
    "order_array = folds[0][0]"
   ]
  },
  {
   "cell_type": "code",
   "execution_count": 100,
   "id": "5e576309-3e53-4832-acc4-96ce3b20f0a8",
   "metadata": {},
   "outputs": [],
   "source": [
    "def shuffle_batch_generator_demo(batch_size, gen_x,gen_y, gen_z): \n",
    "    np.random.shuffle(order_array)\n",
    "    batch_features = np.zeros((batch_size,5000, 12))\n",
    "    batch_labels = np.zeros((batch_size,snomed_classes.shape[0])) #drop undef class\n",
    "    batch_demo_data = np.zeros((batch_size,2))\n",
    "    while True:\n",
    "        for i in range(batch_size):\n",
    "\n",
    "            batch_features[i] = next(gen_x)\n",
    "            batch_labels[i] = next(gen_y)\n",
    "            batch_demo_data[i] = next(gen_z)\n",
    "\n",
    "        X_combined = [batch_features, batch_demo_data]\n",
    "        yield X_combined, batch_labels\n",
    "        \n",
    "def shuffle_batch_generator(batch_size, gen_x,gen_y): \n",
    "    np.random.shuffle(order_array)\n",
    "    batch_features = np.zeros((batch_size,5000, 12))\n",
    "    batch_labels = np.zeros((batch_size,snomed_classes.shape[0])) #drop undef class\n",
    "    while True:\n",
    "        for i in range(batch_size):\n",
    "\n",
    "            batch_features[i] = next(gen_x)\n",
    "            batch_labels[i] = next(gen_y)\n",
    "            \n",
    "        yield batch_features, batch_labels\n",
    "\n",
    "def generate_y_shuffle(y_train):\n",
    "    while True:\n",
    "        for i in order_array:\n",
    "            y_shuffled = y_train[i]\n",
    "            yield y_shuffled\n",
    "\n",
    "\n",
    "def generate_X_shuffle(X_train):\n",
    "    while True:\n",
    "        for i in order_array:\n",
    "                #if filepath.endswith(\".mat\"):\n",
    "                    data, header_data = pc.load_challenge_data(X_train[i])\n",
    "                    X_train_new = pad_sequences(data, maxlen=5000, truncating='post',padding=\"post\")\n",
    "                    X_train_new = X_train_new.reshape(5000,12)\n",
    "                    yield X_train_new\n",
    "\n",
    "def generate_z_shuffle(age_train, gender_train):\n",
    "    while True:\n",
    "        for i in order_array:\n",
    "            gen_age = age_train[i]\n",
    "            gen_gender = gender_train[i]\n",
    "            z_train = [gen_age , gen_gender]\n",
    "            yield z_train"
   ]
  },
  {
   "cell_type": "code",
   "execution_count": 101,
   "id": "b8d2308f-294c-47b1-84aa-16460883ae34",
   "metadata": {},
   "outputs": [],
   "source": [
    "new_weights=pc.calculating_class_weights(y)"
   ]
  },
  {
   "cell_type": "code",
   "execution_count": 102,
   "id": "cac5da93-5d3c-4e90-9ec0-dc38d68fd910",
   "metadata": {},
   "outputs": [
    {
     "data": {
      "text/plain": [
       "{0: 0.9683877055810192, 1: 1.0337954523649622}"
      ]
     },
     "execution_count": 102,
     "metadata": {},
     "output_type": "execute_result"
    }
   ],
   "source": [
    "keys = np.arange(0,3,1)\n",
    "weight_dictionary = dict(zip(keys, new_weights.T[1]))\n",
    "weight_dictionary"
   ]
  },
  {
   "cell_type": "code",
   "execution_count": 103,
   "id": "b65e178e-690a-4815-9159-25b30104a608",
   "metadata": {},
   "outputs": [],
   "source": [
    "reduce_lr = tf.keras.callbacks.ReduceLROnPlateau(\n",
    "    monitor='val_AUC', factor=0.1, patience=2, verbose=1, mode='max',\n",
    "    min_delta=0.0001, cooldown=0, min_lr=0\n",
    ")\n",
    "\n",
    "early_stop = tf.keras.callbacks.EarlyStopping(monitor='val_accuracy', mode='max', verbose=1, patience=4)"
   ]
  },
  {
   "cell_type": "code",
   "execution_count": 104,
   "id": "91360c3d-168b-4c2a-926e-0bce2dae4090",
   "metadata": {},
   "outputs": [],
   "source": [
    "from scipy import optimize\n",
    "def thr_chall_metrics(thr, label, output_prob):\n",
    "    return -pc.compute_challenge_metric_for_opt(label, np.array(output_prob>thr))"
   ]
  },
  {
   "cell_type": "code",
   "execution_count": 105,
   "id": "7571f600-0683-4b88-a3dd-d50d8233a4eb",
   "metadata": {},
   "outputs": [],
   "source": [
    "def myFCN(classes=27):\n",
    "    inputlayer = keras.layers.Input(shape=(5000,12)) \n",
    "\n",
    "    conv1 = keras.layers.Conv1D(filters=128, kernel_size=8,input_shape=(5000,12), padding='same')(inputlayer)\n",
    "    conv1 = keras.layers.BatchNormalization()(conv1)\n",
    "    conv1 = keras.layers.Activation(activation='relu')(conv1)\n",
    "\n",
    "    gap_layer = keras.layers.GlobalAveragePooling1D()(conv1)\n",
    "\n",
    "    outputlayer = keras.layers.Dense(classes, activation='sigmoid')(gap_layer)\n",
    "\n",
    "    model = keras.Model(inputs=inputlayer, outputs=outputlayer)\n",
    "    model.compile(loss=tf.keras.losses.BinaryCrossentropy(), optimizer=tf.keras.optimizers.Adam(learning_rate=0.001), metrics=[tf.keras.metrics.BinaryAccuracy(\n",
    "        name='accuracy', dtype=None, threshold=0.5),tf.keras.metrics.Recall(name='Recall'),tf.keras.metrics.Precision(name='Precision'), \n",
    "                    tf.keras.metrics.AUC(\n",
    "        num_thresholds=200,\n",
    "        curve=\"ROC\",\n",
    "        summation_method=\"interpolation\",\n",
    "        name=\"AUC\",\n",
    "        dtype=None,\n",
    "        thresholds=None,\n",
    "        multi_label=True,\n",
    "        label_weights=None,\n",
    "    )])\n",
    "\n",
    "    return model"
   ]
  },
  {
   "cell_type": "code",
   "execution_count": 106,
   "id": "86e35489-c3fe-42c1-92fa-09a7ecd30d02",
   "metadata": {},
   "outputs": [],
   "source": [
    "model = pc.residual_network_1d(classes=2)"
   ]
  },
  {
   "cell_type": "code",
   "execution_count": 107,
   "id": "44e24fa2-7929-4326-8ef7-545681cf08cf",
   "metadata": {},
   "outputs": [],
   "source": [
    "#model.load_weights(f\"modelweights_newshape.h5\")"
   ]
  },
  {
   "cell_type": "code",
   "execution_count": null,
   "id": "785978e5-3327-4c98-9997-07092d08c256",
   "metadata": {},
   "outputs": [
    {
     "name": "stdout",
     "output_type": "stream",
     "text": [
      "Epoch 1/5\n",
      "1293/1293 [==============================] - ETA: 0s - loss: 0.5428 - accuracy: 0.7313 - Recall: 0.7313 - Precision: 0.7313 - AUC: 0.8030"
     ]
    },
    {
     "name": "stderr",
     "output_type": "stream",
     "text": [
      "2022-03-15 19:42:06.691363: I tensorflow/core/grappler/optimizers/custom_graph_optimizer_registry.cc:113] Plugin optimizer for device_type GPU is enabled.\n"
     ]
    },
    {
     "name": "stdout",
     "output_type": "stream",
     "text": [
      "1293/1293 [==============================] - 1862s 1s/step - loss: 0.5428 - accuracy: 0.7313 - Recall: 0.7313 - Precision: 0.7313 - AUC: 0.8030 - val_loss: 1.1192 - val_accuracy: 0.5350 - val_Recall: 0.5350 - val_Precision: 0.5349 - val_AUC: 0.7641 - lr: 0.0100\n",
      "Epoch 2/5\n",
      "  38/1293 [..............................] - ETA: 30:03 - loss: 0.5289 - accuracy: 0.7474 - Recall: 0.7474 - Precision: 0.7474 - AUC: 0.8179"
     ]
    }
   ],
   "source": [
    "batchsize = 30\n",
    "history = model.fit(\n",
    "    x=shuffle_batch_generator(batch_size=batchsize, gen_x=generate_X_shuffle(firstModelData[\"ecg_filenames\"]), \n",
    "    gen_y=generate_y_shuffle(y)), \n",
    "    epochs=5, \n",
    "    steps_per_epoch=(len(order_array)/batchsize), \n",
    "    validation_data=pc.generate_validation_data(firstModelData[\"ecg_filenames\"],y,folds[0][1]), \n",
    "    validation_freq=1, \n",
    "    class_weight=weight_dictionary, \n",
    "    callbacks=[reduce_lr],\n",
    ")"
   ]
  },
  {
   "cell_type": "code",
   "execution_count": null,
   "id": "d7214fcc-9e0e-4404-9429-a6c89a5dd553",
   "metadata": {},
   "outputs": [],
   "source": [
    "model.save_weights(\"modelweights_binary1.h5\")"
   ]
  },
  {
   "cell_type": "code",
   "execution_count": null,
   "id": "fa308630-7b70-4a51-8e65-b4bfbd684d17",
   "metadata": {},
   "outputs": [],
   "source": []
  }
 ],
 "metadata": {
  "kernelspec": {
   "display_name": "Python 3 (ipykernel)",
   "language": "python",
   "name": "python3"
  },
  "language_info": {
   "codemirror_mode": {
    "name": "ipython",
    "version": 3
   },
   "file_extension": ".py",
   "mimetype": "text/x-python",
   "name": "python",
   "nbconvert_exporter": "python",
   "pygments_lexer": "ipython3",
   "version": "3.8.12"
  }
 },
 "nbformat": 4,
 "nbformat_minor": 5
}
